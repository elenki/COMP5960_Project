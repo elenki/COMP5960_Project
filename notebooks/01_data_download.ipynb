{
 "cells": [
  {
   "cell_type": "code",
   "execution_count": 5,
   "metadata": {},
   "outputs": [
    {
     "name": "stdout",
     "output_type": "stream",
     "text": [
      "Project root: /Users/elenki/Documents/UofU/fall-2024/comp5960-dv/COMP5960_Project\n",
      "Available CDC PLACES Datasets:\n",
      "\n",
      "Year: 2024\n",
      "Dataset: PLACES-Census-Tract-Data-GIS-Friendly-Format-2024\n",
      "URL: https://data.cdc.gov/api/views/yjkw-uj5s/rows.csv\n",
      "\n",
      "Year: 2023\n",
      "Dataset: PLACES-Census-Tract-Data-GIS-Friendly-Format-2023\n",
      "URL: https://data.cdc.gov/api/views/hky2-3tpn/rows.csv\n",
      "\n",
      "Year: 2022\n",
      "Dataset: PLACES-Census-Tract-Data-GIS-Friendly-Format-2022\n",
      "URL: https://data.cdc.gov/api/views/shc3-fzig/rows.csv\n",
      "\n",
      "Year: 2021\n",
      "Dataset: PLACES-Census-Tract-Data-GIS-Friendly-Format-2021\n",
      "URL: https://data.cdc.gov/api/views/mb5y-ytti/rows.csv\n",
      "\n",
      "Year: 2020\n",
      "Dataset: PLACES-Census-Tract-Data-GIS-Friendly-Format-2020\n",
      "URL: https://data.cdc.gov/api/views/ib3w-k9rq/rows.csv\n"
     ]
    }
   ],
   "source": [
    "import sys\n",
    "from pathlib import Path\n",
    "\n",
    "# Setup project directory\n",
    "PROJECT_ROOT = Path().resolve().parents[0]\n",
    "print(\"Project root:\", PROJECT_ROOT)\n",
    "\n",
    "# Add to Python path\n",
    "if str(PROJECT_ROOT) not in sys.path:\n",
    "    sys.path.append(str(PROJECT_ROOT))\n",
    "\n",
    "# Import config\n",
    "from config import PLACES_DATASETS\n",
    "\n",
    "# Display available years and their details\n",
    "print(\"Available CDC PLACES Datasets:\")\n",
    "for year, details in PLACES_DATASETS.items():\n",
    "    print(f\"\\nYear: {year}\")\n",
    "    print(f\"Dataset: {details['name']}\")\n",
    "    print(f\"URL: {details['url']}\")"
   ]
  },
  {
   "cell_type": "code",
   "execution_count": 7,
   "metadata": {},
   "outputs": [
    {
     "name": "stderr",
     "output_type": "stream",
     "text": [
      "2024-11-10 18:25:15,103 - src.data.download - INFO - File for year 2024 already exists at /Users/elenki/Documents/UofU/fall-2024/comp5960-dv/COMP5960_Project/data/raw/places_2024.csv\n"
     ]
    },
    {
     "name": "stdout",
     "output_type": "stream",
     "text": [
      "Current working directory: /Users/elenki/Documents/UofU/fall-2024/comp5960-dv/COMP5960_Project/notebooks\n",
      "Project root: /Users/elenki/Documents/UofU/fall-2024/comp5960-dv/COMP5960_Project\n",
      "Download path: /Users/elenki/Documents/UofU/fall-2024/comp5960-dv/COMP5960_Project/data/raw/places_2024.csv\n"
     ]
    }
   ],
   "source": [
    "# This is to verify that the download function uses the correct paths\n",
    "from pathlib import Path\n",
    "print(\"Current working directory:\", Path().resolve())\n",
    "print(\"Project root:\", Path().resolve().parents[0])\n",
    "\n",
    "from src.data.download import download_places_data\n",
    "file_path = download_places_data(2024)\n",
    "print(\"Download path:\", file_path)"
   ]
  },
  {
   "cell_type": "code",
   "execution_count": 8,
   "metadata": {},
   "outputs": [
    {
     "name": "stderr",
     "output_type": "stream",
     "text": [
      "2024-11-10 18:25:30,559 - src.data.download - INFO - File for year 2024 already exists at /Users/elenki/Documents/UofU/fall-2024/comp5960-dv/COMP5960_Project/data/raw/places_2024.csv\n",
      "2024-11-10 18:25:30,571 - src.data.download - INFO - File for year 2023 already exists at /Users/elenki/Documents/UofU/fall-2024/comp5960-dv/COMP5960_Project/data/raw/places_2023.csv\n",
      "2024-11-10 18:25:30,574 - src.data.download - INFO - File for year 2022 already exists at /Users/elenki/Documents/UofU/fall-2024/comp5960-dv/COMP5960_Project/data/raw/places_2022.csv\n"
     ]
    },
    {
     "name": "stdout",
     "output_type": "stream",
     "text": [
      "\n",
      "Downloaded files:\n",
      "- /Users/elenki/Documents/UofU/fall-2024/comp5960-dv/COMP5960_Project/data/raw/places_2024.csv\n",
      "- /Users/elenki/Documents/UofU/fall-2024/comp5960-dv/COMP5960_Project/data/raw/places_2023.csv\n",
      "- /Users/elenki/Documents/UofU/fall-2024/comp5960-dv/COMP5960_Project/data/raw/places_2022.csv\n",
      "\n",
      "places_2024.csv: 66.3 MB\n",
      "\n",
      "places_2023.csv: 53.4 MB\n",
      "\n",
      "places_2022.csv: 46.0 MB\n"
     ]
    }
   ],
   "source": [
    "# Download multiple years\n",
    "# Let's get last 3 years of data\n",
    "from src.data.download import download_multiple_years\n",
    "\n",
    "recent_years = [2024, 2023, 2022]\n",
    "downloaded_files = download_multiple_years(recent_years)\n",
    "\n",
    "print(\"\\nDownloaded files:\")\n",
    "for file in downloaded_files:\n",
    "    print(f\"- {file}\")\n",
    "    \n",
    "# Check file sizes\n",
    "for file in downloaded_files:\n",
    "    size_mb = file.stat().st_size / (1024 * 1024)  # Convert to MB\n",
    "    print(f\"\\n{file.name}: {size_mb:.1f} MB\")"
   ]
  },
  {
   "cell_type": "code",
   "execution_count": 10,
   "metadata": {},
   "outputs": [
    {
     "name": "stderr",
     "output_type": "stream",
     "text": [
      "2024-11-10 18:26:04,499 - src.data.download - INFO - File for year 2024 already exists at /Users/elenki/Documents/UofU/fall-2024/comp5960-dv/COMP5960_Project/data/raw/places_2024.csv\n",
      "2024-11-10 18:26:04,505 - src.data.download - INFO - File for year 2023 already exists at /Users/elenki/Documents/UofU/fall-2024/comp5960-dv/COMP5960_Project/data/raw/places_2023.csv\n",
      "2024-11-10 18:26:04,510 - src.data.download - INFO - File for year 2022 already exists at /Users/elenki/Documents/UofU/fall-2024/comp5960-dv/COMP5960_Project/data/raw/places_2022.csv\n",
      "2024-11-10 18:26:04,513 - src.data.download - INFO - File for year 2021 already exists at /Users/elenki/Documents/UofU/fall-2024/comp5960-dv/COMP5960_Project/data/raw/places_2021.csv\n",
      "2024-11-10 18:26:04,515 - src.data.download - INFO - File for year 2020 already exists at /Users/elenki/Documents/UofU/fall-2024/comp5960-dv/COMP5960_Project/data/raw/places_2020.csv\n"
     ]
    },
    {
     "name": "stdout",
     "output_type": "stream",
     "text": [
      "\n",
      "Downloaded files:\n",
      "- /Users/elenki/Documents/UofU/fall-2024/comp5960-dv/COMP5960_Project/data/raw/places_2024.csv\n",
      "- /Users/elenki/Documents/UofU/fall-2024/comp5960-dv/COMP5960_Project/data/raw/places_2023.csv\n",
      "- /Users/elenki/Documents/UofU/fall-2024/comp5960-dv/COMP5960_Project/data/raw/places_2022.csv\n",
      "- /Users/elenki/Documents/UofU/fall-2024/comp5960-dv/COMP5960_Project/data/raw/places_2021.csv\n",
      "- /Users/elenki/Documents/UofU/fall-2024/comp5960-dv/COMP5960_Project/data/raw/places_2020.csv\n"
     ]
    }
   ],
   "source": [
    "# Download all available years\n",
    "downloaded_files = download_multiple_years(PLACES_DATASETS.keys())\n",
    "\n",
    "print(\"\\nDownloaded files:\")\n",
    "for file in downloaded_files:\n",
    "    print(f\"- {file}\")"
   ]
  },
  {
   "cell_type": "code",
   "execution_count": null,
   "metadata": {},
   "outputs": [],
   "source": []
  }
 ],
 "metadata": {
  "kernelspec": {
   "display_name": "Python 3",
   "language": "python",
   "name": "python3"
  },
  "language_info": {
   "codemirror_mode": {
    "name": "ipython",
    "version": 3
   },
   "file_extension": ".py",
   "mimetype": "text/x-python",
   "name": "python",
   "nbconvert_exporter": "python",
   "pygments_lexer": "ipython3",
   "version": "3.9.6"
  },
  "orig_nbformat": 4,
  "vscode": {
   "interpreter": {
    "hash": "31f2aee4e71d21fbe5cf8b01ff0e069b9275f58929596ceb00d14d90e3e16cd6"
   }
  }
 },
 "nbformat": 4,
 "nbformat_minor": 2
}
