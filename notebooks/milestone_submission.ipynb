{
 "cells": [
  {
   "attachments": {},
   "cell_type": "markdown",
   "metadata": {},
   "source": [
    "#   Chronic Disease in America\n",
    "####  Milestone Submission (Nov 18, 2024)\n",
    "\n",
    "Applied Data Visualization (COMP5960 - Fall 2024)\n",
    "\n",
    "Team Members: Chetan Elenki, Kalpana Simhadri, Nathaniel Masson"
   ]
  },
  {
   "attachments": {},
   "cell_type": "markdown",
   "metadata": {},
   "source": [
    "### 1. America's Health Landscape - National Overview\n",
    "\n",
    "- Opening with a national choropleth map showing overall chronic disease burden\n",
    "- Key narrative points:\n",
    "     * Distribution of major chronic conditions across the country\n",
    "     * Identification of \"hot spots\" and \"cold spots\"\n",
    "     * Initial patterns that raise questions for more exploration"
   ]
  },
  {
   "attachments": {},
   "cell_type": "markdown",
   "metadata": {},
   "source": [
    "### 2. Regional Stories: The Geography of Health Disparities\n",
    "- Diving into distinct regional patterns\n",
    "- Key narrative elements:\n",
    "    * The \"Stroke Belt\" in the Southeast\n",
    "    * Diabetes patterns in the Southwest\n",
    "    * Heart disease clusters in the Rust Belt\n",
    "    * Respiratory health issues in urban corridors"
   ]
  },
  {
   "attachments": {},
   "cell_type": "markdown",
   "metadata": {},
   "source": [
    "### 3. The Urban-Rural Divide: Two Americas?\n",
    "- Exploring how health patterns shift across the urban-rural continuum\n",
    "- Key narrative points:\n",
    "    * Access to healthcare differences\n",
    "    * Lifestyle-related health outcomes\n",
    "    * Economic factors and health correlations"
   ]
  },
  {
   "cell_type": "code",
   "execution_count": 4,
   "metadata": {},
   "outputs": [],
   "source": [
    "import sys\n",
    "from pathlib import Path\n",
    "\n",
    "# Setup paths\n",
    "PROJECT_ROOT = Path().resolve().parents[0]\n",
    "sys.path.append(str(PROJECT_ROOT))"
   ]
  },
  {
   "cell_type": "code",
   "execution_count": 5,
   "metadata": {},
   "outputs": [
    {
     "data": {
      "application/vnd.plotly.v1+json": {
       "config": {
        "plotlyServerURL": "https://plot.ly"
       },
       "data": [
        {
         "colorbar": {
          "title": {
           "text": "Prevalence (%)"
          }
         },
         "colorscale": [
          [
           0,
           "rgb(255,245,240)"
          ],
          [
           0.125,
           "rgb(254,224,210)"
          ],
          [
           0.25,
           "rgb(252,187,161)"
          ],
          [
           0.375,
           "rgb(252,146,114)"
          ],
          [
           0.5,
           "rgb(251,106,74)"
          ],
          [
           0.625,
           "rgb(239,59,44)"
          ],
          [
           0.75,
           "rgb(203,24,29)"
          ],
          [
           0.875,
           "rgb(165,15,21)"
          ],
          [
           1,
           "rgb(103,0,13)"
          ]
         ],
         "hovertemplate": "<b>%{location}</b><br>Prevalence: %{z:.1f}%<br><extra></extra>",
         "locationmode": "USA-states",
         "locations": [
          "AL",
          "AK",
          "AZ",
          "AR",
          "CA",
          "CO",
          "CT",
          "DE",
          "DC",
          "FL",
          "GA",
          "HI",
          "ID",
          "IL",
          "IN",
          "IA",
          "KS",
          "KY",
          "LA",
          "ME",
          "MD",
          "MA",
          "MI",
          "MN",
          "MS",
          "MO",
          "MT",
          "NE",
          "NV",
          "NH",
          "NJ",
          "NM",
          "NY",
          "NC",
          "ND",
          "OH",
          "OK",
          "OR",
          "PA",
          "RI",
          "SC",
          "SD",
          "TN",
          "TX",
          "UT",
          "VT",
          "VA",
          "WA",
          "WV",
          "WI",
          "WY"
         ],
         "name": "Diabetes",
         "type": "choropleth",
         "visible": true,
         "z": [
          15.582377622377622,
          9.615340909090909,
          12.76977011494253,
          15.54774665042631,
          11.679140022050717,
          8.575852470424495,
          10.53013698630137,
          13.275875486381324,
          8.299999999999999,
          13.547055347646246,
          13.016415229885057,
          12.362206572769953,
          10.366153846153846,
          12.371731123388582,
          13.055786350148368,
          11.759060402684565,
          12.269400244798042,
          14.353579676674364,
          15.441916605705924,
          10.8585,
          12.324622770919067,
          9.679211020663745,
          11.963326446280991,
          10.213133333333333,
          16.01,
          12.432584951456311,
          9.912933753943218,
          11.17373188405797,
          11.636705577172503,
          10.021902017291065,
          10.523651452282158,
          13.029850746268657,
          11.227415390432975,
          12.612089157536833,
          10.312719298245614,
          14.231008243500316,
          13.847412353923206,
          10.65055387713998,
          11.88025234741784,
          11.415853658536586,
          13.857774390243904,
          10.427685950413224,
          14.670273483947682,
          14.234395090590297,
          8.99943661971831,
          8.601041666666667,
          12.998337950138504,
          9.844406779661016,
          16.267948717948716,
          11.057442622950818,
          10.450943396226416
         ],
         "zmax": 16.267948717948716,
         "zmin": 8.299999999999999
        },
        {
         "colorbar": {
          "title": {
           "text": "Prevalence (%)"
          }
         },
         "colorscale": [
          [
           0,
           "rgb(255,245,240)"
          ],
          [
           0.125,
           "rgb(254,224,210)"
          ],
          [
           0.25,
           "rgb(252,187,161)"
          ],
          [
           0.375,
           "rgb(252,146,114)"
          ],
          [
           0.5,
           "rgb(251,106,74)"
          ],
          [
           0.625,
           "rgb(239,59,44)"
          ],
          [
           0.75,
           "rgb(203,24,29)"
          ],
          [
           0.875,
           "rgb(165,15,21)"
          ],
          [
           1,
           "rgb(103,0,13)"
          ]
         ],
         "hovertemplate": "<b>%{location}</b><br>Prevalence: %{z:.1f}%<br><extra></extra>",
         "locationmode": "USA-states",
         "locations": [
          "AL",
          "AK",
          "AZ",
          "AR",
          "CA",
          "CO",
          "CT",
          "DE",
          "DC",
          "FL",
          "GA",
          "HI",
          "ID",
          "IL",
          "IN",
          "IA",
          "KS",
          "KY",
          "LA",
          "ME",
          "MD",
          "MA",
          "MI",
          "MN",
          "MS",
          "MO",
          "MT",
          "NE",
          "NV",
          "NH",
          "NJ",
          "NM",
          "NY",
          "NC",
          "ND",
          "OH",
          "OK",
          "OR",
          "PA",
          "RI",
          "SC",
          "SD",
          "TN",
          "TX",
          "UT",
          "VT",
          "VA",
          "WA",
          "WV",
          "WI",
          "WY"
         ],
         "name": "Obesity",
         "type": "choropleth",
         "visible": false,
         "z": [
          40.5186013986014,
          32.96193181818182,
          33.6319540229885,
          38.97515225334957,
          28.57495038588754,
          26.3375086986778,
          30.762785388127856,
          37.69221789883268,
          25.290776699029124,
          32.37041559976364,
          37.198850574712644,
          25.445070422535213,
          33.042637362637365,
          35.614211172498464,
          39.13537091988131,
          38.80089485458613,
          37.4015911872705,
          39.208391070053885,
          40.85669348939283,
          33.88625,
          33.9216049382716,
          28.38860363180964,
          36.605922865013774,
          34.5016,
          41.73816091954023,
          38.04769417475728,
          32.25583596214511,
          37.512862318840575,
          32.79922178988327,
          31.27291066282421,
          30.25698478561549,
          32.464510779436154,
          30.766742295329927,
          34.27740838685304,
          37.00570175438596,
          40.27612555485098,
          40.59983305509182,
          31.961530715005036,
          34.31232394366197,
          31.099593495934958,
          36.74435975609756,
          35.90867768595041,
          38.46403091557669,
          37.09903565166569,
          31.841549295774648,
          27.439062500000002,
          35.68744228993536,
          31.77779661016949,
          41.01446886446887,
          38.35744262295082,
          34.29748427672956
         ],
         "zmax": 41.73816091954023,
         "zmin": 25.290776699029124
        },
        {
         "colorbar": {
          "title": {
           "text": "Prevalence (%)"
          }
         },
         "colorscale": [
          [
           0,
           "rgb(255,245,240)"
          ],
          [
           0.125,
           "rgb(254,224,210)"
          ],
          [
           0.25,
           "rgb(252,187,161)"
          ],
          [
           0.375,
           "rgb(252,146,114)"
          ],
          [
           0.5,
           "rgb(251,106,74)"
          ],
          [
           0.625,
           "rgb(239,59,44)"
          ],
          [
           0.75,
           "rgb(203,24,29)"
          ],
          [
           0.875,
           "rgb(165,15,21)"
          ],
          [
           1,
           "rgb(103,0,13)"
          ]
         ],
         "hovertemplate": "<b>%{location}</b><br>Prevalence: %{z:.1f}%<br><extra></extra>",
         "locationmode": "USA-states",
         "locations": [
          "AL",
          "AK",
          "AZ",
          "AR",
          "CA",
          "CO",
          "CT",
          "DE",
          "DC",
          "FL",
          "GA",
          "HI",
          "ID",
          "IL",
          "IN",
          "IA",
          "KS",
          "KY",
          "LA",
          "ME",
          "MD",
          "MA",
          "MI",
          "MN",
          "MS",
          "MO",
          "MT",
          "NE",
          "NV",
          "NH",
          "NJ",
          "NM",
          "NY",
          "NC",
          "ND",
          "OH",
          "OK",
          "OR",
          "PA",
          "RI",
          "SC",
          "SD",
          "TN",
          "TX",
          "UT",
          "VT",
          "VA",
          "WA",
          "WV",
          "WI",
          "WY"
         ],
         "name": "High Blood Pressure",
         "type": "choropleth",
         "visible": false,
         "z": [
          42.54643356643357,
          30.417045454545452,
          31.868620689655174,
          41.6857490864799,
          28.718632855567805,
          26.408281141266524,
          31.43082191780822,
          36.41322957198444,
          28.00242718446602,
          null,
          37.99655172413793,
          29.44154929577465,
          31.95186813186813,
          32.84340085942296,
          36.085934718100894,
          32.1420581655481,
          35.25667074663403,
          39.88013856812933,
          41.00248719824433,
          34.7175,
          35.15912208504801,
          28.777144646211646,
          36.298691460055096,
          30.57186666666667,
          45.37505747126437,
          36.689502427184465,
          32.072555205047315,
          32.79945652173913,
          33.717120622568096,
          30.990778097982705,
          31.02093130474873,
          33.66517412935323,
          31.50287388920401,
          35.84359652436721,
          32.65964912280702,
          37.22606214331008,
          39.04866444073456,
          31.063746223564955,
          33.592781690140846,
          32.5609756097561,
          39.191539634146345,
          32.79380165289256,
          38.709096313912006,
          33.71398305084746,
          26.449154929577467,
          30.9109375,
          34.894321329639894,
          29.64084745762712,
          43.31739926739927,
          32.74222950819672,
          31.1440251572327
         ],
         "zmax": 45.37505747126437,
         "zmin": 26.408281141266524
        },
        {
         "colorbar": {
          "title": {
           "text": "Prevalence (%)"
          }
         },
         "colorscale": [
          [
           0,
           "rgb(255,245,240)"
          ],
          [
           0.125,
           "rgb(254,224,210)"
          ],
          [
           0.25,
           "rgb(252,187,161)"
          ],
          [
           0.375,
           "rgb(252,146,114)"
          ],
          [
           0.5,
           "rgb(251,106,74)"
          ],
          [
           0.625,
           "rgb(239,59,44)"
          ],
          [
           0.75,
           "rgb(203,24,29)"
          ],
          [
           0.875,
           "rgb(165,15,21)"
          ],
          [
           1,
           "rgb(103,0,13)"
          ]
         ],
         "hovertemplate": "<b>%{location}</b><br>Prevalence: %{z:.1f}%<br><extra></extra>",
         "locationmode": "USA-states",
         "locations": [
          "AL",
          "AK",
          "AZ",
          "AR",
          "CA",
          "CO",
          "CT",
          "DE",
          "DC",
          "FL",
          "GA",
          "HI",
          "ID",
          "IL",
          "IN",
          "IA",
          "KS",
          "KY",
          "LA",
          "ME",
          "MD",
          "MA",
          "MI",
          "MN",
          "MS",
          "MO",
          "MT",
          "NE",
          "NV",
          "NH",
          "NJ",
          "NM",
          "NY",
          "NC",
          "ND",
          "OH",
          "OK",
          "OR",
          "PA",
          "RI",
          "SC",
          "SD",
          "TN",
          "TX",
          "UT",
          "VT",
          "VA",
          "WA",
          "WV",
          "WI",
          "WY"
         ],
         "name": "Stroke",
         "type": "choropleth",
         "visible": false,
         "z": [
          4.713496503496503,
          3.471590909090909,
          3.8454022988505745,
          4.661023142509135,
          3.2549724366041897,
          2.9353514265831597,
          3.306392694063927,
          3.906225680933852,
          3.0092233009708735,
          4.249517431554067,
          3.954058908045977,
          3.5145539906103287,
          3.5235164835164836,
          3.6546040515653777,
          3.927833827893175,
          3.622930648769575,
          3.533047735618115,
          4.277752117013087,
          4.797951719092905,
          3.889,
          3.5900548696844994,
          3.0905447714464622,
          3.954820936639118,
          3.251333333333333,
          5.019080459770115,
          4.02257281553398,
          3.904416403785489,
          3.3606884057971014,
          3.7535667963683528,
          3.2844380403458215,
          3.241678192715537,
          4.223714759535655,
          3.443524295708073,
          4.073517189270873,
          3.4530701754385964,
          4.203329105897273,
          4.265358931552587,
          3.6118831822759314,
          3.8160211267605635,
          3.302032520325203,
          4.384756097560976,
          3.8181818181818183,
          4.216527942925089,
          3.5915254237288137,
          2.6540845070422536,
          3.4421874999999997,
          3.5977377654662974,
          3.1657062146892656,
          4.643406593406594,
          3.596459016393443,
          3.492452830188679
         ],
         "zmax": 5.019080459770115,
         "zmin": 2.6540845070422536
        }
       ],
       "layout": {
        "geo": {
         "lakecolor": "rgb(255, 255, 255)",
         "projection": {
          "type": "albers usa"
         },
         "scope": "usa",
         "showlakes": true
        },
        "height": 600,
        "template": {
         "data": {
          "bar": [
           {
            "error_x": {
             "color": "#2a3f5f"
            },
            "error_y": {
             "color": "#2a3f5f"
            },
            "marker": {
             "line": {
              "color": "#E5ECF6",
              "width": 0.5
             },
             "pattern": {
              "fillmode": "overlay",
              "size": 10,
              "solidity": 0.2
             }
            },
            "type": "bar"
           }
          ],
          "barpolar": [
           {
            "marker": {
             "line": {
              "color": "#E5ECF6",
              "width": 0.5
             },
             "pattern": {
              "fillmode": "overlay",
              "size": 10,
              "solidity": 0.2
             }
            },
            "type": "barpolar"
           }
          ],
          "carpet": [
           {
            "aaxis": {
             "endlinecolor": "#2a3f5f",
             "gridcolor": "white",
             "linecolor": "white",
             "minorgridcolor": "white",
             "startlinecolor": "#2a3f5f"
            },
            "baxis": {
             "endlinecolor": "#2a3f5f",
             "gridcolor": "white",
             "linecolor": "white",
             "minorgridcolor": "white",
             "startlinecolor": "#2a3f5f"
            },
            "type": "carpet"
           }
          ],
          "choropleth": [
           {
            "colorbar": {
             "outlinewidth": 0,
             "ticks": ""
            },
            "type": "choropleth"
           }
          ],
          "contour": [
           {
            "colorbar": {
             "outlinewidth": 0,
             "ticks": ""
            },
            "colorscale": [
             [
              0,
              "#0d0887"
             ],
             [
              0.1111111111111111,
              "#46039f"
             ],
             [
              0.2222222222222222,
              "#7201a8"
             ],
             [
              0.3333333333333333,
              "#9c179e"
             ],
             [
              0.4444444444444444,
              "#bd3786"
             ],
             [
              0.5555555555555556,
              "#d8576b"
             ],
             [
              0.6666666666666666,
              "#ed7953"
             ],
             [
              0.7777777777777778,
              "#fb9f3a"
             ],
             [
              0.8888888888888888,
              "#fdca26"
             ],
             [
              1,
              "#f0f921"
             ]
            ],
            "type": "contour"
           }
          ],
          "contourcarpet": [
           {
            "colorbar": {
             "outlinewidth": 0,
             "ticks": ""
            },
            "type": "contourcarpet"
           }
          ],
          "heatmap": [
           {
            "colorbar": {
             "outlinewidth": 0,
             "ticks": ""
            },
            "colorscale": [
             [
              0,
              "#0d0887"
             ],
             [
              0.1111111111111111,
              "#46039f"
             ],
             [
              0.2222222222222222,
              "#7201a8"
             ],
             [
              0.3333333333333333,
              "#9c179e"
             ],
             [
              0.4444444444444444,
              "#bd3786"
             ],
             [
              0.5555555555555556,
              "#d8576b"
             ],
             [
              0.6666666666666666,
              "#ed7953"
             ],
             [
              0.7777777777777778,
              "#fb9f3a"
             ],
             [
              0.8888888888888888,
              "#fdca26"
             ],
             [
              1,
              "#f0f921"
             ]
            ],
            "type": "heatmap"
           }
          ],
          "heatmapgl": [
           {
            "colorbar": {
             "outlinewidth": 0,
             "ticks": ""
            },
            "colorscale": [
             [
              0,
              "#0d0887"
             ],
             [
              0.1111111111111111,
              "#46039f"
             ],
             [
              0.2222222222222222,
              "#7201a8"
             ],
             [
              0.3333333333333333,
              "#9c179e"
             ],
             [
              0.4444444444444444,
              "#bd3786"
             ],
             [
              0.5555555555555556,
              "#d8576b"
             ],
             [
              0.6666666666666666,
              "#ed7953"
             ],
             [
              0.7777777777777778,
              "#fb9f3a"
             ],
             [
              0.8888888888888888,
              "#fdca26"
             ],
             [
              1,
              "#f0f921"
             ]
            ],
            "type": "heatmapgl"
           }
          ],
          "histogram": [
           {
            "marker": {
             "pattern": {
              "fillmode": "overlay",
              "size": 10,
              "solidity": 0.2
             }
            },
            "type": "histogram"
           }
          ],
          "histogram2d": [
           {
            "colorbar": {
             "outlinewidth": 0,
             "ticks": ""
            },
            "colorscale": [
             [
              0,
              "#0d0887"
             ],
             [
              0.1111111111111111,
              "#46039f"
             ],
             [
              0.2222222222222222,
              "#7201a8"
             ],
             [
              0.3333333333333333,
              "#9c179e"
             ],
             [
              0.4444444444444444,
              "#bd3786"
             ],
             [
              0.5555555555555556,
              "#d8576b"
             ],
             [
              0.6666666666666666,
              "#ed7953"
             ],
             [
              0.7777777777777778,
              "#fb9f3a"
             ],
             [
              0.8888888888888888,
              "#fdca26"
             ],
             [
              1,
              "#f0f921"
             ]
            ],
            "type": "histogram2d"
           }
          ],
          "histogram2dcontour": [
           {
            "colorbar": {
             "outlinewidth": 0,
             "ticks": ""
            },
            "colorscale": [
             [
              0,
              "#0d0887"
             ],
             [
              0.1111111111111111,
              "#46039f"
             ],
             [
              0.2222222222222222,
              "#7201a8"
             ],
             [
              0.3333333333333333,
              "#9c179e"
             ],
             [
              0.4444444444444444,
              "#bd3786"
             ],
             [
              0.5555555555555556,
              "#d8576b"
             ],
             [
              0.6666666666666666,
              "#ed7953"
             ],
             [
              0.7777777777777778,
              "#fb9f3a"
             ],
             [
              0.8888888888888888,
              "#fdca26"
             ],
             [
              1,
              "#f0f921"
             ]
            ],
            "type": "histogram2dcontour"
           }
          ],
          "mesh3d": [
           {
            "colorbar": {
             "outlinewidth": 0,
             "ticks": ""
            },
            "type": "mesh3d"
           }
          ],
          "parcoords": [
           {
            "line": {
             "colorbar": {
              "outlinewidth": 0,
              "ticks": ""
             }
            },
            "type": "parcoords"
           }
          ],
          "pie": [
           {
            "automargin": true,
            "type": "pie"
           }
          ],
          "scatter": [
           {
            "fillpattern": {
             "fillmode": "overlay",
             "size": 10,
             "solidity": 0.2
            },
            "type": "scatter"
           }
          ],
          "scatter3d": [
           {
            "line": {
             "colorbar": {
              "outlinewidth": 0,
              "ticks": ""
             }
            },
            "marker": {
             "colorbar": {
              "outlinewidth": 0,
              "ticks": ""
             }
            },
            "type": "scatter3d"
           }
          ],
          "scattercarpet": [
           {
            "marker": {
             "colorbar": {
              "outlinewidth": 0,
              "ticks": ""
             }
            },
            "type": "scattercarpet"
           }
          ],
          "scattergeo": [
           {
            "marker": {
             "colorbar": {
              "outlinewidth": 0,
              "ticks": ""
             }
            },
            "type": "scattergeo"
           }
          ],
          "scattergl": [
           {
            "marker": {
             "colorbar": {
              "outlinewidth": 0,
              "ticks": ""
             }
            },
            "type": "scattergl"
           }
          ],
          "scattermapbox": [
           {
            "marker": {
             "colorbar": {
              "outlinewidth": 0,
              "ticks": ""
             }
            },
            "type": "scattermapbox"
           }
          ],
          "scatterpolar": [
           {
            "marker": {
             "colorbar": {
              "outlinewidth": 0,
              "ticks": ""
             }
            },
            "type": "scatterpolar"
           }
          ],
          "scatterpolargl": [
           {
            "marker": {
             "colorbar": {
              "outlinewidth": 0,
              "ticks": ""
             }
            },
            "type": "scatterpolargl"
           }
          ],
          "scatterternary": [
           {
            "marker": {
             "colorbar": {
              "outlinewidth": 0,
              "ticks": ""
             }
            },
            "type": "scatterternary"
           }
          ],
          "surface": [
           {
            "colorbar": {
             "outlinewidth": 0,
             "ticks": ""
            },
            "colorscale": [
             [
              0,
              "#0d0887"
             ],
             [
              0.1111111111111111,
              "#46039f"
             ],
             [
              0.2222222222222222,
              "#7201a8"
             ],
             [
              0.3333333333333333,
              "#9c179e"
             ],
             [
              0.4444444444444444,
              "#bd3786"
             ],
             [
              0.5555555555555556,
              "#d8576b"
             ],
             [
              0.6666666666666666,
              "#ed7953"
             ],
             [
              0.7777777777777778,
              "#fb9f3a"
             ],
             [
              0.8888888888888888,
              "#fdca26"
             ],
             [
              1,
              "#f0f921"
             ]
            ],
            "type": "surface"
           }
          ],
          "table": [
           {
            "cells": {
             "fill": {
              "color": "#EBF0F8"
             },
             "line": {
              "color": "white"
             }
            },
            "header": {
             "fill": {
              "color": "#C8D4E3"
             },
             "line": {
              "color": "white"
             }
            },
            "type": "table"
           }
          ]
         },
         "layout": {
          "annotationdefaults": {
           "arrowcolor": "#2a3f5f",
           "arrowhead": 0,
           "arrowwidth": 1
          },
          "autotypenumbers": "strict",
          "coloraxis": {
           "colorbar": {
            "outlinewidth": 0,
            "ticks": ""
           }
          },
          "colorscale": {
           "diverging": [
            [
             0,
             "#8e0152"
            ],
            [
             0.1,
             "#c51b7d"
            ],
            [
             0.2,
             "#de77ae"
            ],
            [
             0.3,
             "#f1b6da"
            ],
            [
             0.4,
             "#fde0ef"
            ],
            [
             0.5,
             "#f7f7f7"
            ],
            [
             0.6,
             "#e6f5d0"
            ],
            [
             0.7,
             "#b8e186"
            ],
            [
             0.8,
             "#7fbc41"
            ],
            [
             0.9,
             "#4d9221"
            ],
            [
             1,
             "#276419"
            ]
           ],
           "sequential": [
            [
             0,
             "#0d0887"
            ],
            [
             0.1111111111111111,
             "#46039f"
            ],
            [
             0.2222222222222222,
             "#7201a8"
            ],
            [
             0.3333333333333333,
             "#9c179e"
            ],
            [
             0.4444444444444444,
             "#bd3786"
            ],
            [
             0.5555555555555556,
             "#d8576b"
            ],
            [
             0.6666666666666666,
             "#ed7953"
            ],
            [
             0.7777777777777778,
             "#fb9f3a"
            ],
            [
             0.8888888888888888,
             "#fdca26"
            ],
            [
             1,
             "#f0f921"
            ]
           ],
           "sequentialminus": [
            [
             0,
             "#0d0887"
            ],
            [
             0.1111111111111111,
             "#46039f"
            ],
            [
             0.2222222222222222,
             "#7201a8"
            ],
            [
             0.3333333333333333,
             "#9c179e"
            ],
            [
             0.4444444444444444,
             "#bd3786"
            ],
            [
             0.5555555555555556,
             "#d8576b"
            ],
            [
             0.6666666666666666,
             "#ed7953"
            ],
            [
             0.7777777777777778,
             "#fb9f3a"
            ],
            [
             0.8888888888888888,
             "#fdca26"
            ],
            [
             1,
             "#f0f921"
            ]
           ]
          },
          "colorway": [
           "#636efa",
           "#EF553B",
           "#00cc96",
           "#ab63fa",
           "#FFA15A",
           "#19d3f3",
           "#FF6692",
           "#B6E880",
           "#FF97FF",
           "#FECB52"
          ],
          "font": {
           "color": "#2a3f5f"
          },
          "geo": {
           "bgcolor": "white",
           "lakecolor": "white",
           "landcolor": "#E5ECF6",
           "showlakes": true,
           "showland": true,
           "subunitcolor": "white"
          },
          "hoverlabel": {
           "align": "left"
          },
          "hovermode": "closest",
          "mapbox": {
           "style": "light"
          },
          "paper_bgcolor": "white",
          "plot_bgcolor": "#E5ECF6",
          "polar": {
           "angularaxis": {
            "gridcolor": "white",
            "linecolor": "white",
            "ticks": ""
           },
           "bgcolor": "#E5ECF6",
           "radialaxis": {
            "gridcolor": "white",
            "linecolor": "white",
            "ticks": ""
           }
          },
          "scene": {
           "xaxis": {
            "backgroundcolor": "#E5ECF6",
            "gridcolor": "white",
            "gridwidth": 2,
            "linecolor": "white",
            "showbackground": true,
            "ticks": "",
            "zerolinecolor": "white"
           },
           "yaxis": {
            "backgroundcolor": "#E5ECF6",
            "gridcolor": "white",
            "gridwidth": 2,
            "linecolor": "white",
            "showbackground": true,
            "ticks": "",
            "zerolinecolor": "white"
           },
           "zaxis": {
            "backgroundcolor": "#E5ECF6",
            "gridcolor": "white",
            "gridwidth": 2,
            "linecolor": "white",
            "showbackground": true,
            "ticks": "",
            "zerolinecolor": "white"
           }
          },
          "shapedefaults": {
           "line": {
            "color": "#2a3f5f"
           }
          },
          "ternary": {
           "aaxis": {
            "gridcolor": "white",
            "linecolor": "white",
            "ticks": ""
           },
           "baxis": {
            "gridcolor": "white",
            "linecolor": "white",
            "ticks": ""
           },
           "bgcolor": "#E5ECF6",
           "caxis": {
            "gridcolor": "white",
            "linecolor": "white",
            "ticks": ""
           }
          },
          "title": {
           "x": 0.05
          },
          "xaxis": {
           "automargin": true,
           "gridcolor": "white",
           "linecolor": "white",
           "ticks": "",
           "title": {
            "standoff": 15
           },
           "zerolinecolor": "white",
           "zerolinewidth": 2
          },
          "yaxis": {
           "automargin": true,
           "gridcolor": "white",
           "linecolor": "white",
           "ticks": "",
           "title": {
            "standoff": 15
           },
           "zerolinecolor": "white",
           "zerolinewidth": 2
          }
         }
        },
        "title": {
         "font": {
          "size": 24
         },
         "text": "Chronic Disease Prevalence Across the United States",
         "x": 0.5,
         "xanchor": "center"
        },
        "updatemenus": [
         {
          "buttons": [
           {
            "args": [
             {
              "visible": [
               true,
               false,
               false,
               false
              ]
             },
             {
              "title": "DIABETES Prevalence by State"
             }
            ],
            "label": "DIABETES",
            "method": "update"
           },
           {
            "args": [
             {
              "visible": [
               false,
               true,
               false,
               false
              ]
             },
             {
              "title": "OBESITY Prevalence by State"
             }
            ],
            "label": "OBESITY",
            "method": "update"
           },
           {
            "args": [
             {
              "visible": [
               false,
               false,
               true,
               false
              ]
             },
             {
              "title": "BPHIGH Prevalence by State"
             }
            ],
            "label": "BPHIGH",
            "method": "update"
           },
           {
            "args": [
             {
              "visible": [
               false,
               false,
               false,
               true
              ]
             },
             {
              "title": "STROKE Prevalence by State"
             }
            ],
            "label": "STROKE",
            "method": "update"
           }
          ],
          "direction": "down",
          "showactive": true,
          "x": 0.1,
          "y": 1.1
         }
        ],
        "width": 1000
       }
      }
     },
     "metadata": {},
     "output_type": "display_data"
    }
   ],
   "source": [
    "import plotly.express as px\n",
    "import plotly.graph_objects as go\n",
    "import pandas as pd\n",
    "import numpy as np\n",
    "from typing import Dict, List\n",
    "\n",
    "from config import *\n",
    "\n",
    "def create_health_choropleth(\n",
    "    df: pd.DataFrame,\n",
    "    measures: List[str] = ['DIABETES_CrudePrev', 'OBESITY_CrudePrev', 'BPHIGH_CrudePrev', 'STROKE_CrudePrev']\n",
    ") -> go.Figure:\n",
    "    \"\"\"\n",
    "    Creates an interactive choropleth map of health outcomes using Plotly\n",
    "    \n",
    "    Parameters:\n",
    "    -----------\n",
    "    df : pd.DataFrame\n",
    "        PLACES dataset\n",
    "    measures : List[str]\n",
    "        List of health measures to visualize\n",
    "    \n",
    "    Returns:\n",
    "    --------\n",
    "    fig : go.Figure\n",
    "        Interactive Plotly figure\n",
    "    \"\"\"\n",
    "    # Calculate state-level statistics\n",
    "    state_stats = df.groupby(['StateDesc', 'StateAbbr'])[measures].agg(['mean', 'std', 'count']).reset_index()\n",
    "\n",
    "    # Flatten column names\n",
    "    state_stats.columns = [\n",
    "        f\"{col[0]}_{col[1]}\" if isinstance(col, tuple) and col[1] else col[0]\n",
    "        for col in state_stats.columns\n",
    "    ]\n",
    "    \n",
    "    # Create figure\n",
    "    fig = go.Figure()\n",
    "    \n",
    "    # Add choropleth traces for each measure\n",
    "    for measure in measures:\n",
    "        measure_name = measure.replace('_CrudePrev', '')\n",
    "        display_name = {\n",
    "            'DIABETES': 'Diabetes',\n",
    "            'OBESITY': 'Obesity',\n",
    "            'BPHIGH': 'High Blood Pressure',\n",
    "            'STROKE': 'Stroke'\n",
    "        }.get(measure_name, measure_name)\n",
    "        \n",
    "        fig.add_trace(\n",
    "            go.Choropleth(\n",
    "                locations=state_stats['StateAbbr'],\n",
    "                z=state_stats[f'{measure}_mean'],\n",
    "                locationmode='USA-states',\n",
    "                colorscale='Reds',\n",
    "                name=display_name,\n",
    "                zmin=state_stats[f'{measure}_mean'].min(),\n",
    "                zmax=state_stats[f'{measure}_mean'].max(),\n",
    "                visible=True if measure == measures[0] else False,\n",
    "                colorbar_title=\"Prevalence (%)\",\n",
    "                hovertemplate=(\n",
    "                    \"<b>%{location}</b><br>\" +\n",
    "                    \"Prevalence: %{z:.1f}%<br>\" +\n",
    "                    \"<extra></extra>\"\n",
    "                )\n",
    "            )\n",
    "        )\n",
    "    \n",
    "    # Update layout\n",
    "    fig.update_layout(\n",
    "        title={\n",
    "            'text': 'Chronic Disease Prevalence Across the United States',\n",
    "            'x': 0.5,\n",
    "            'xanchor': 'center',\n",
    "            'font': {'size': 24}\n",
    "        },\n",
    "        geo=dict(\n",
    "            scope='usa',\n",
    "            projection_type='albers usa',\n",
    "            showlakes=True,\n",
    "            lakecolor='rgb(255, 255, 255)'\n",
    "        ),\n",
    "        width=1000,\n",
    "        height=600,\n",
    "        updatemenus=[{\n",
    "            'buttons': [\n",
    "                {\n",
    "                    'method': 'update',\n",
    "                    'label': measure.replace('_CrudePrev', ''),\n",
    "                    'args': [\n",
    "                        {'visible': [i == j for j in range(len(measures))]},\n",
    "                        {'title': f'{measure.replace(\"_CrudePrev\", \"\")} Prevalence by State'}\n",
    "                    ]\n",
    "                } for i, measure in enumerate(measures)\n",
    "            ],\n",
    "            'direction': 'down',\n",
    "            'showactive': True,\n",
    "            'x': 0.1,\n",
    "            'y': 1.1\n",
    "        }]\n",
    "    )\n",
    "    \n",
    "    return fig\n",
    "\n",
    "def main():\n",
    "    # Load data\n",
    "    file_path = get_file_path(2024)\n",
    "    df = pd.read_csv(file_path)\n",
    "    \n",
    "    # Create visualizations\n",
    "    choropleth = create_health_choropleth(df)\n",
    "    \n",
    "    return choropleth\n",
    "\n",
    "# Create and display visualizations\n",
    "choropleth = main()\n",
    "choropleth.show()"
   ]
  },
  {
   "attachments": {},
   "cell_type": "markdown",
   "metadata": {},
   "source": [
    "## County Level Choropleth Maps\n",
    "#### (Work In Progress)"
   ]
  },
  {
   "attachments": {},
   "cell_type": "markdown",
   "metadata": {},
   "source": [
    "![County Map](county_map.png \"County Choropleth\")"
   ]
  },
  {
   "attachments": {},
   "cell_type": "markdown",
   "metadata": {},
   "source": [
    "## PCP Plot (Urban/Rural analysis)\n",
    "#### (Work In Progress)"
   ]
  },
  {
   "attachments": {},
   "cell_type": "markdown",
   "metadata": {},
   "source": [
    "![PCP Plot](pcp_plot.png \"Urban-Rural patterns\")"
   ]
  },
  {
   "cell_type": "code",
   "execution_count": null,
   "metadata": {},
   "outputs": [],
   "source": []
  }
 ],
 "metadata": {
  "kernelspec": {
   "display_name": "base",
   "language": "python",
   "name": "python3"
  },
  "language_info": {
   "codemirror_mode": {
    "name": "ipython",
    "version": 3
   },
   "file_extension": ".py",
   "mimetype": "text/x-python",
   "name": "python",
   "nbconvert_exporter": "python",
   "pygments_lexer": "ipython3",
   "version": "3.11.8"
  },
  "orig_nbformat": 4,
  "vscode": {
   "interpreter": {
    "hash": "51268d2dc058faf78216ef8183e4e8ea0a4e68bfdf3961c5e7f493d3b4bdc42a"
   }
  }
 },
 "nbformat": 4,
 "nbformat_minor": 2
}
