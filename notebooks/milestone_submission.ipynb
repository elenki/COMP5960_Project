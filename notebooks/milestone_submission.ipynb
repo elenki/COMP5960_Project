{
 "cells": [
  {
   "attachments": {},
   "cell_type": "markdown",
   "metadata": {},
   "source": [
    "#   Chronic Disease in America\n",
    "####  Milestone Submission (Nov 18, 2024)\n",
    "\n",
    "Applied Data Visualization (COMP5960 - Fall 2024)\n",
    "\n",
    "Team Members: Chetan Elenki, Kalpana Simhadri, Nathaniel Masson"
   ]
  },
  {
   "attachments": {},
   "cell_type": "markdown",
   "metadata": {},
   "source": [
    "### 1. America's Health Landscape - National Overview\n",
    "\n",
    "- Opening with a national choropleth map showing overall chronic disease burden\n",
    "- Key narrative points:\n",
    "     * Distribution of major chronic conditions across the country\n",
    "     * Identification of \"hot spots\" and \"cold spots\"\n",
    "     * Initial patterns that raise questions for more exploration\n",
    "- Visualization strategy:\n",
    "     * Interactive choropleth - lets you explore national level patterns for different health outcomes\n",
    "     * An accompanying box plot to show prevalence for each state, soreted by highest to lowest\n",
    "     * An accompaying line chart to show trend-line of the given health outocme over the past 5 years."
   ]
  },
  {
   "attachments": {},
   "cell_type": "markdown",
   "metadata": {},
   "source": [
    "### 2. Regional Stories: The Geography of Health Disparities\n",
    "- Diving into distinct regional patterns\n",
    "- Key narrative elements:\n",
    "    * The \"Stroke Belt\" in the Southeast\n",
    "    * Diabetes patterns in the Southwest\n",
    "    * Heart disease clusters in the Rust Belt\n",
    "    * Respiratory health issues in urban corridors\n",
    "- Visualization strategy:\n",
    "    * Interactive scatterplot - lets you explore comparative prevalence among different groups of states"
   ]
  },
  {
   "attachments": {},
   "cell_type": "markdown",
   "metadata": {},
   "source": [
    "### 3. The Urban-Rural Divide: Two Americas?\n",
    "- Exploring how health patterns shift across the urban-rural continuum\n",
    "- Key narrative points:\n",
    "    * Access to healthcare differences\n",
    "    * Lifestyle-related health outcomes\n",
    "    * Economic factors and health correlations\n",
    "- Visualization strategy:\n",
    "    * Interactive parallel coordinates plot - surfaces trends and disparities between urban and rural areas"
   ]
  },
  {
   "cell_type": "code",
   "execution_count": 4,
   "metadata": {},
   "outputs": [],
   "source": [
    "import sys\n",
    "from pathlib import Path\n",
    "\n",
    "# Setup paths\n",
    "PROJECT_ROOT = Path().resolve().parents[0]\n",
    "sys.path.append(str(PROJECT_ROOT))"
   ]
  },
  {
   "cell_type": "code",
   "execution_count": 7,
   "metadata": {},
   "outputs": [
    {
     "data": {
      "application/vnd.plotly.v1+json": {
       "config": {
        "plotlyServerURL": "https://plot.ly"
       },
       "data": [
        {
         "colorbar": {
          "title": {
           "text": "Prevalence (%)"
          }
         },
         "colorscale": [
          [
           0,
           "rgb(255,245,240)"
          ],
          [
           0.125,
           "rgb(254,224,210)"
          ],
          [
           0.25,
           "rgb(252,187,161)"
          ],
          [
           0.375,
           "rgb(252,146,114)"
          ],
          [
           0.5,
           "rgb(251,106,74)"
          ],
          [
           0.625,
           "rgb(239,59,44)"
          ],
          [
           0.75,
           "rgb(203,24,29)"
          ],
          [
           0.875,
           "rgb(165,15,21)"
          ],
          [
           1,
           "rgb(103,0,13)"
          ]
         ],
         "hovertemplate": "<b>%{location}</b><br>Prevalence: %{z:.1f}%<br><extra></extra>",
         "locationmode": "USA-states",
         "locations": [
          "AL",
          "AK",
          "AZ",
          "AR",
          "CA",
          "CO",
          "CT",
          "DE",
          "DC",
          "FL",
          "GA",
          "HI",
          "ID",
          "IL",
          "IN",
          "IA",
          "KS",
          "KY",
          "LA",
          "ME",
          "MD",
          "MA",
          "MI",
          "MN",
          "MS",
          "MO",
          "MT",
          "NE",
          "NV",
          "NH",
          "NJ",
          "NM",
          "NY",
          "NC",
          "ND",
          "OH",
          "OK",
          "OR",
          "PA",
          "RI",
          "SC",
          "SD",
          "TN",
          "TX",
          "UT",
          "VT",
          "VA",
          "WA",
          "WV",
          "WI",
          "WY"
         ],
         "name": "Diabetes",
         "type": "choropleth",
         "visible": true,
         "z": [
          15.582377622377622,
          9.615340909090909,
          12.76977011494253,
          15.54774665042631,
          11.679140022050717,
          8.575852470424495,
          10.53013698630137,
          13.275875486381324,
          8.299999999999999,
          13.547055347646246,
          13.016415229885057,
          12.362206572769953,
          10.366153846153846,
          12.371731123388582,
          13.055786350148368,
          11.759060402684565,
          12.269400244798042,
          14.353579676674364,
          15.441916605705924,
          10.8585,
          12.324622770919067,
          9.679211020663745,
          11.963326446280991,
          10.213133333333333,
          16.01,
          12.432584951456311,
          9.912933753943218,
          11.17373188405797,
          11.636705577172503,
          10.021902017291065,
          10.523651452282158,
          13.029850746268657,
          11.227415390432975,
          12.612089157536833,
          10.312719298245614,
          14.231008243500316,
          13.847412353923206,
          10.65055387713998,
          11.88025234741784,
          11.415853658536586,
          13.857774390243904,
          10.427685950413224,
          14.670273483947682,
          14.234395090590297,
          8.99943661971831,
          8.601041666666667,
          12.998337950138504,
          9.844406779661016,
          16.267948717948716,
          11.057442622950818,
          10.450943396226416
         ],
         "zmax": 16.267948717948716,
         "zmin": 8.299999999999999
        },
        {
         "colorbar": {
          "title": {
           "text": "Prevalence (%)"
          }
         },
         "colorscale": [
          [
           0,
           "rgb(255,245,240)"
          ],
          [
           0.125,
           "rgb(254,224,210)"
          ],
          [
           0.25,
           "rgb(252,187,161)"
          ],
          [
           0.375,
           "rgb(252,146,114)"
          ],
          [
           0.5,
           "rgb(251,106,74)"
          ],
          [
           0.625,
           "rgb(239,59,44)"
          ],
          [
           0.75,
           "rgb(203,24,29)"
          ],
          [
           0.875,
           "rgb(165,15,21)"
          ],
          [
           1,
           "rgb(103,0,13)"
          ]
         ],
         "hovertemplate": "<b>%{location}</b><br>Prevalence: %{z:.1f}%<br><extra></extra>",
         "locationmode": "USA-states",
         "locations": [
          "AL",
          "AK",
          "AZ",
          "AR",
          "CA",
          "CO",
          "CT",
          "DE",
          "DC",
          "FL",
          "GA",
          "HI",
          "ID",
          "IL",
          "IN",
          "IA",
          "KS",
          "KY",
          "LA",
          "ME",
          "MD",
          "MA",
          "MI",
          "MN",
          "MS",
          "MO",
          "MT",
          "NE",
          "NV",
          "NH",
          "NJ",
          "NM",
          "NY",
          "NC",
          "ND",
          "OH",
          "OK",
          "OR",
          "PA",
          "RI",
          "SC",
          "SD",
          "TN",
          "TX",
          "UT",
          "VT",
          "VA",
          "WA",
          "WV",
          "WI",
          "WY"
         ],
         "name": "Obesity",
         "type": "choropleth",
         "visible": false,
         "z": [
          40.5186013986014,
          32.96193181818182,
          33.6319540229885,
          38.97515225334957,
          28.57495038588754,
          26.3375086986778,
          30.762785388127856,
          37.69221789883268,
          25.290776699029124,
          32.37041559976364,
          37.198850574712644,
          25.445070422535213,
          33.042637362637365,
          35.614211172498464,
          39.13537091988131,
          38.80089485458613,
          37.4015911872705,
          39.208391070053885,
          40.85669348939283,
          33.88625,
          33.9216049382716,
          28.38860363180964,
          36.605922865013774,
          34.5016,
          41.73816091954023,
          38.04769417475728,
          32.25583596214511,
          37.512862318840575,
          32.79922178988327,
          31.27291066282421,
          30.25698478561549,
          32.464510779436154,
          30.766742295329927,
          34.27740838685304,
          37.00570175438596,
          40.27612555485098,
          40.59983305509182,
          31.961530715005036,
          34.31232394366197,
          31.099593495934958,
          36.74435975609756,
          35.90867768595041,
          38.46403091557669,
          37.09903565166569,
          31.841549295774648,
          27.439062500000002,
          35.68744228993536,
          31.77779661016949,
          41.01446886446887,
          38.35744262295082,
          34.29748427672956
         ],
         "zmax": 41.73816091954023,
         "zmin": 25.290776699029124
        },
        {
         "colorbar": {
          "title": {
           "text": "Prevalence (%)"
          }
         },
         "colorscale": [
          [
           0,
           "rgb(255,245,240)"
          ],
          [
           0.125,
           "rgb(254,224,210)"
          ],
          [
           0.25,
           "rgb(252,187,161)"
          ],
          [
           0.375,
           "rgb(252,146,114)"
          ],
          [
           0.5,
           "rgb(251,106,74)"
          ],
          [
           0.625,
           "rgb(239,59,44)"
          ],
          [
           0.75,
           "rgb(203,24,29)"
          ],
          [
           0.875,
           "rgb(165,15,21)"
          ],
          [
           1,
           "rgb(103,0,13)"
          ]
         ],
         "hovertemplate": "<b>%{location}</b><br>Prevalence: %{z:.1f}%<br><extra></extra>",
         "locationmode": "USA-states",
         "locations": [
          "AL",
          "AK",
          "AZ",
          "AR",
          "CA",
          "CO",
          "CT",
          "DE",
          "DC",
          "FL",
          "GA",
          "HI",
          "ID",
          "IL",
          "IN",
          "IA",
          "KS",
          "KY",
          "LA",
          "ME",
          "MD",
          "MA",
          "MI",
          "MN",
          "MS",
          "MO",
          "MT",
          "NE",
          "NV",
          "NH",
          "NJ",
          "NM",
          "NY",
          "NC",
          "ND",
          "OH",
          "OK",
          "OR",
          "PA",
          "RI",
          "SC",
          "SD",
          "TN",
          "TX",
          "UT",
          "VT",
          "VA",
          "WA",
          "WV",
          "WI",
          "WY"
         ],
         "name": "High Blood Pressure",
         "type": "choropleth",
         "visible": false,
         "z": [
          42.54643356643357,
          30.417045454545452,
          31.868620689655174,
          41.6857490864799,
          28.718632855567805,
          26.408281141266524,
          31.43082191780822,
          36.41322957198444,
          28.00242718446602,
          null,
          37.99655172413793,
          29.44154929577465,
          31.95186813186813,
          32.84340085942296,
          36.085934718100894,
          32.1420581655481,
          35.25667074663403,
          39.88013856812933,
          41.00248719824433,
          34.7175,
          35.15912208504801,
          28.777144646211646,
          36.298691460055096,
          30.57186666666667,
          45.37505747126437,
          36.689502427184465,
          32.072555205047315,
          32.79945652173913,
          33.717120622568096,
          30.990778097982705,
          31.02093130474873,
          33.66517412935323,
          31.50287388920401,
          35.84359652436721,
          32.65964912280702,
          37.22606214331008,
          39.04866444073456,
          31.063746223564955,
          33.592781690140846,
          32.5609756097561,
          39.191539634146345,
          32.79380165289256,
          38.709096313912006,
          33.71398305084746,
          26.449154929577467,
          30.9109375,
          34.894321329639894,
          29.64084745762712,
          43.31739926739927,
          32.74222950819672,
          31.1440251572327
         ],
         "zmax": 45.37505747126437,
         "zmin": 26.408281141266524
        },
        {
         "colorbar": {
          "title": {
           "text": "Prevalence (%)"
          }
         },
         "colorscale": [
          [
           0,
           "rgb(255,245,240)"
          ],
          [
           0.125,
           "rgb(254,224,210)"
          ],
          [
           0.25,
           "rgb(252,187,161)"
          ],
          [
           0.375,
           "rgb(252,146,114)"
          ],
          [
           0.5,
           "rgb(251,106,74)"
          ],
          [
           0.625,
           "rgb(239,59,44)"
          ],
          [
           0.75,
           "rgb(203,24,29)"
          ],
          [
           0.875,
           "rgb(165,15,21)"
          ],
          [
           1,
           "rgb(103,0,13)"
          ]
         ],
         "hovertemplate": "<b>%{location}</b><br>Prevalence: %{z:.1f}%<br><extra></extra>",
         "locationmode": "USA-states",
         "locations": [
          "AL",
          "AK",
          "AZ",
          "AR",
          "CA",
          "CO",
          "CT",
          "DE",
          "DC",
          "FL",
          "GA",
          "HI",
          "ID",
          "IL",
          "IN",
          "IA",
          "KS",
          "KY",
          "LA",
          "ME",
          "MD",
          "MA",
          "MI",
          "MN",
          "MS",
          "MO",
          "MT",
          "NE",
          "NV",
          "NH",
          "NJ",
          "NM",
          "NY",
          "NC",
          "ND",
          "OH",
          "OK",
          "OR",
          "PA",
          "RI",
          "SC",
          "SD",
          "TN",
          "TX",
          "UT",
          "VT",
          "VA",
          "WA",
          "WV",
          "WI",
          "WY"
         ],
         "name": "Stroke",
         "type": "choropleth",
         "visible": false,
         "z": [
          4.713496503496503,
          3.471590909090909,
          3.8454022988505745,
          4.661023142509135,
          3.2549724366041897,
          2.9353514265831597,
          3.306392694063927,
          3.906225680933852,
          3.0092233009708735,
          4.249517431554067,
          3.954058908045977,
          3.5145539906103287,
          3.5235164835164836,
          3.6546040515653777,
          3.927833827893175,
          3.622930648769575,
          3.533047735618115,
          4.277752117013087,
          4.797951719092905,
          3.889,
          3.5900548696844994,
          3.0905447714464622,
          3.954820936639118,
          3.251333333333333,
          5.019080459770115,
          4.02257281553398,
          3.904416403785489,
          3.3606884057971014,
          3.7535667963683528,
          3.2844380403458215,
          3.241678192715537,
          4.223714759535655,
          3.443524295708073,
          4.073517189270873,
          3.4530701754385964,
          4.203329105897273,
          4.265358931552587,
          3.6118831822759314,
          3.8160211267605635,
          3.302032520325203,
          4.384756097560976,
          3.8181818181818183,
          4.216527942925089,
          3.5915254237288137,
          2.6540845070422536,
          3.4421874999999997,
          3.5977377654662974,
          3.1657062146892656,
          4.643406593406594,
          3.596459016393443,
          3.492452830188679
         ],
         "zmax": 5.019080459770115,
         "zmin": 2.6540845070422536
        }
       ],
       "layout": {
        "geo": {
         "lakecolor": "rgb(255, 255, 255)",
         "projection": {
          "type": "albers usa"
         },
         "scope": "usa",
         "showlakes": true
        },
        "height": 600,
        "template": {
         "data": {
          "bar": [
           {
            "error_x": {
             "color": "#2a3f5f"
            },
            "error_y": {
             "color": "#2a3f5f"
            },
            "marker": {
             "line": {
              "color": "#E5ECF6",
              "width": 0.5
             },
             "pattern": {
              "fillmode": "overlay",
              "size": 10,
              "solidity": 0.2
             }
            },
            "type": "bar"
           }
          ],
          "barpolar": [
           {
            "marker": {
             "line": {
              "color": "#E5ECF6",
              "width": 0.5
             },
             "pattern": {
              "fillmode": "overlay",
              "size": 10,
              "solidity": 0.2
             }
            },
            "type": "barpolar"
           }
          ],
          "carpet": [
           {
            "aaxis": {
             "endlinecolor": "#2a3f5f",
             "gridcolor": "white",
             "linecolor": "white",
             "minorgridcolor": "white",
             "startlinecolor": "#2a3f5f"
            },
            "baxis": {
             "endlinecolor": "#2a3f5f",
             "gridcolor": "white",
             "linecolor": "white",
             "minorgridcolor": "white",
             "startlinecolor": "#2a3f5f"
            },
            "type": "carpet"
           }
          ],
          "choropleth": [
           {
            "colorbar": {
             "outlinewidth": 0,
             "ticks": ""
            },
            "type": "choropleth"
           }
          ],
          "contour": [
           {
            "colorbar": {
             "outlinewidth": 0,
             "ticks": ""
            },
            "colorscale": [
             [
              0,
              "#0d0887"
             ],
             [
              0.1111111111111111,
              "#46039f"
             ],
             [
              0.2222222222222222,
              "#7201a8"
             ],
             [
              0.3333333333333333,
              "#9c179e"
             ],
             [
              0.4444444444444444,
              "#bd3786"
             ],
             [
              0.5555555555555556,
              "#d8576b"
             ],
             [
              0.6666666666666666,
              "#ed7953"
             ],
             [
              0.7777777777777778,
              "#fb9f3a"
             ],
             [
              0.8888888888888888,
              "#fdca26"
             ],
             [
              1,
              "#f0f921"
             ]
            ],
            "type": "contour"
           }
          ],
          "contourcarpet": [
           {
            "colorbar": {
             "outlinewidth": 0,
             "ticks": ""
            },
            "type": "contourcarpet"
           }
          ],
          "heatmap": [
           {
            "colorbar": {
             "outlinewidth": 0,
             "ticks": ""
            },
            "colorscale": [
             [
              0,
              "#0d0887"
             ],
             [
              0.1111111111111111,
              "#46039f"
             ],
             [
              0.2222222222222222,
              "#7201a8"
             ],
             [
              0.3333333333333333,
              "#9c179e"
             ],
             [
              0.4444444444444444,
              "#bd3786"
             ],
             [
              0.5555555555555556,
              "#d8576b"
             ],
             [
              0.6666666666666666,
              "#ed7953"
             ],
             [
              0.7777777777777778,
              "#fb9f3a"
             ],
             [
              0.8888888888888888,
              "#fdca26"
             ],
             [
              1,
              "#f0f921"
             ]
            ],
            "type": "heatmap"
           }
          ],
          "heatmapgl": [
           {
            "colorbar": {
             "outlinewidth": 0,
             "ticks": ""
            },
            "colorscale": [
             [
              0,
              "#0d0887"
             ],
             [
              0.1111111111111111,
              "#46039f"
             ],
             [
              0.2222222222222222,
              "#7201a8"
             ],
             [
              0.3333333333333333,
              "#9c179e"
             ],
             [
              0.4444444444444444,
              "#bd3786"
             ],
             [
              0.5555555555555556,
              "#d8576b"
             ],
             [
              0.6666666666666666,
              "#ed7953"
             ],
             [
              0.7777777777777778,
              "#fb9f3a"
             ],
             [
              0.8888888888888888,
              "#fdca26"
             ],
             [
              1,
              "#f0f921"
             ]
            ],
            "type": "heatmapgl"
           }
          ],
          "histogram": [
           {
            "marker": {
             "pattern": {
              "fillmode": "overlay",
              "size": 10,
              "solidity": 0.2
             }
            },
            "type": "histogram"
           }
          ],
          "histogram2d": [
           {
            "colorbar": {
             "outlinewidth": 0,
             "ticks": ""
            },
            "colorscale": [
             [
              0,
              "#0d0887"
             ],
             [
              0.1111111111111111,
              "#46039f"
             ],
             [
              0.2222222222222222,
              "#7201a8"
             ],
             [
              0.3333333333333333,
              "#9c179e"
             ],
             [
              0.4444444444444444,
              "#bd3786"
             ],
             [
              0.5555555555555556,
              "#d8576b"
             ],
             [
              0.6666666666666666,
              "#ed7953"
             ],
             [
              0.7777777777777778,
              "#fb9f3a"
             ],
             [
              0.8888888888888888,
              "#fdca26"
             ],
             [
              1,
              "#f0f921"
             ]
            ],
            "type": "histogram2d"
           }
          ],
          "histogram2dcontour": [
           {
            "colorbar": {
             "outlinewidth": 0,
             "ticks": ""
            },
            "colorscale": [
             [
              0,
              "#0d0887"
             ],
             [
              0.1111111111111111,
              "#46039f"
             ],
             [
              0.2222222222222222,
              "#7201a8"
             ],
             [
              0.3333333333333333,
              "#9c179e"
             ],
             [
              0.4444444444444444,
              "#bd3786"
             ],
             [
              0.5555555555555556,
              "#d8576b"
             ],
             [
              0.6666666666666666,
              "#ed7953"
             ],
             [
              0.7777777777777778,
              "#fb9f3a"
             ],
             [
              0.8888888888888888,
              "#fdca26"
             ],
             [
              1,
              "#f0f921"
             ]
            ],
            "type": "histogram2dcontour"
           }
          ],
          "mesh3d": [
           {
            "colorbar": {
             "outlinewidth": 0,
             "ticks": ""
            },
            "type": "mesh3d"
           }
          ],
          "parcoords": [
           {
            "line": {
             "colorbar": {
              "outlinewidth": 0,
              "ticks": ""
             }
            },
            "type": "parcoords"
           }
          ],
          "pie": [
           {
            "automargin": true,
            "type": "pie"
           }
          ],
          "scatter": [
           {
            "fillpattern": {
             "fillmode": "overlay",
             "size": 10,
             "solidity": 0.2
            },
            "type": "scatter"
           }
          ],
          "scatter3d": [
           {
            "line": {
             "colorbar": {
              "outlinewidth": 0,
              "ticks": ""
             }
            },
            "marker": {
             "colorbar": {
              "outlinewidth": 0,
              "ticks": ""
             }
            },
            "type": "scatter3d"
           }
          ],
          "scattercarpet": [
           {
            "marker": {
             "colorbar": {
              "outlinewidth": 0,
              "ticks": ""
             }
            },
            "type": "scattercarpet"
           }
          ],
          "scattergeo": [
           {
            "marker": {
             "colorbar": {
              "outlinewidth": 0,
              "ticks": ""
             }
            },
            "type": "scattergeo"
           }
          ],
          "scattergl": [
           {
            "marker": {
             "colorbar": {
              "outlinewidth": 0,
              "ticks": ""
             }
            },
            "type": "scattergl"
           }
          ],
          "scattermapbox": [
           {
            "marker": {
             "colorbar": {
              "outlinewidth": 0,
              "ticks": ""
             }
            },
            "type": "scattermapbox"
           }
          ],
          "scatterpolar": [
           {
            "marker": {
             "colorbar": {
              "outlinewidth": 0,
              "ticks": ""
             }
            },
            "type": "scatterpolar"
           }
          ],
          "scatterpolargl": [
           {
            "marker": {
             "colorbar": {
              "outlinewidth": 0,
              "ticks": ""
             }
            },
            "type": "scatterpolargl"
           }
          ],
          "scatterternary": [
           {
            "marker": {
             "colorbar": {
              "outlinewidth": 0,
              "ticks": ""
             }
            },
            "type": "scatterternary"
           }
          ],
          "surface": [
           {
            "colorbar": {
             "outlinewidth": 0,
             "ticks": ""
            },
            "colorscale": [
             [
              0,
              "#0d0887"
             ],
             [
              0.1111111111111111,
              "#46039f"
             ],
             [
              0.2222222222222222,
              "#7201a8"
             ],
             [
              0.3333333333333333,
              "#9c179e"
             ],
             [
              0.4444444444444444,
              "#bd3786"
             ],
             [
              0.5555555555555556,
              "#d8576b"
             ],
             [
              0.6666666666666666,
              "#ed7953"
             ],
             [
              0.7777777777777778,
              "#fb9f3a"
             ],
             [
              0.8888888888888888,
              "#fdca26"
             ],
             [
              1,
              "#f0f921"
             ]
            ],
            "type": "surface"
           }
          ],
          "table": [
           {
            "cells": {
             "fill": {
              "color": "#EBF0F8"
             },
             "line": {
              "color": "white"
             }
            },
            "header": {
             "fill": {
              "color": "#C8D4E3"
             },
             "line": {
              "color": "white"
             }
            },
            "type": "table"
           }
          ]
         },
         "layout": {
          "annotationdefaults": {
           "arrowcolor": "#2a3f5f",
           "arrowhead": 0,
           "arrowwidth": 1
          },
          "autotypenumbers": "strict",
          "coloraxis": {
           "colorbar": {
            "outlinewidth": 0,
            "ticks": ""
           }
          },
          "colorscale": {
           "diverging": [
            [
             0,
             "#8e0152"
            ],
            [
             0.1,
             "#c51b7d"
            ],
            [
             0.2,
             "#de77ae"
            ],
            [
             0.3,
             "#f1b6da"
            ],
            [
             0.4,
             "#fde0ef"
            ],
            [
             0.5,
             "#f7f7f7"
            ],
            [
             0.6,
             "#e6f5d0"
            ],
            [
             0.7,
             "#b8e186"
            ],
            [
             0.8,
             "#7fbc41"
            ],
            [
             0.9,
             "#4d9221"
            ],
            [
             1,
             "#276419"
            ]
           ],
           "sequential": [
            [
             0,
             "#0d0887"
            ],
            [
             0.1111111111111111,
             "#46039f"
            ],
            [
             0.2222222222222222,
             "#7201a8"
            ],
            [
             0.3333333333333333,
             "#9c179e"
            ],
            [
             0.4444444444444444,
             "#bd3786"
            ],
            [
             0.5555555555555556,
             "#d8576b"
            ],
            [
             0.6666666666666666,
             "#ed7953"
            ],
            [
             0.7777777777777778,
             "#fb9f3a"
            ],
            [
             0.8888888888888888,
             "#fdca26"
            ],
            [
             1,
             "#f0f921"
            ]
           ],
           "sequentialminus": [
            [
             0,
             "#0d0887"
            ],
            [
             0.1111111111111111,
             "#46039f"
            ],
            [
             0.2222222222222222,
             "#7201a8"
            ],
            [
             0.3333333333333333,
             "#9c179e"
            ],
            [
             0.4444444444444444,
             "#bd3786"
            ],
            [
             0.5555555555555556,
             "#d8576b"
            ],
            [
             0.6666666666666666,
             "#ed7953"
            ],
            [
             0.7777777777777778,
             "#fb9f3a"
            ],
            [
             0.8888888888888888,
             "#fdca26"
            ],
            [
             1,
             "#f0f921"
            ]
           ]
          },
          "colorway": [
           "#636efa",
           "#EF553B",
           "#00cc96",
           "#ab63fa",
           "#FFA15A",
           "#19d3f3",
           "#FF6692",
           "#B6E880",
           "#FF97FF",
           "#FECB52"
          ],
          "font": {
           "color": "#2a3f5f"
          },
          "geo": {
           "bgcolor": "white",
           "lakecolor": "white",
           "landcolor": "#E5ECF6",
           "showlakes": true,
           "showland": true,
           "subunitcolor": "white"
          },
          "hoverlabel": {
           "align": "left"
          },
          "hovermode": "closest",
          "mapbox": {
           "style": "light"
          },
          "paper_bgcolor": "white",
          "plot_bgcolor": "#E5ECF6",
          "polar": {
           "angularaxis": {
            "gridcolor": "white",
            "linecolor": "white",
            "ticks": ""
           },
           "bgcolor": "#E5ECF6",
           "radialaxis": {
            "gridcolor": "white",
            "linecolor": "white",
            "ticks": ""
           }
          },
          "scene": {
           "xaxis": {
            "backgroundcolor": "#E5ECF6",
            "gridcolor": "white",
            "gridwidth": 2,
            "linecolor": "white",
            "showbackground": true,
            "ticks": "",
            "zerolinecolor": "white"
           },
           "yaxis": {
            "backgroundcolor": "#E5ECF6",
            "gridcolor": "white",
            "gridwidth": 2,
            "linecolor": "white",
            "showbackground": true,
            "ticks": "",
            "zerolinecolor": "white"
           },
           "zaxis": {
            "backgroundcolor": "#E5ECF6",
            "gridcolor": "white",
            "gridwidth": 2,
            "linecolor": "white",
            "showbackground": true,
            "ticks": "",
            "zerolinecolor": "white"
           }
          },
          "shapedefaults": {
           "line": {
            "color": "#2a3f5f"
           }
          },
          "ternary": {
           "aaxis": {
            "gridcolor": "white",
            "linecolor": "white",
            "ticks": ""
           },
           "baxis": {
            "gridcolor": "white",
            "linecolor": "white",
            "ticks": ""
           },
           "bgcolor": "#E5ECF6",
           "caxis": {
            "gridcolor": "white",
            "linecolor": "white",
            "ticks": ""
           }
          },
          "title": {
           "x": 0.05
          },
          "xaxis": {
           "automargin": true,
           "gridcolor": "white",
           "linecolor": "white",
           "ticks": "",
           "title": {
            "standoff": 15
           },
           "zerolinecolor": "white",
           "zerolinewidth": 2
          },
          "yaxis": {
           "automargin": true,
           "gridcolor": "white",
           "linecolor": "white",
           "ticks": "",
           "title": {
            "standoff": 15
           },
           "zerolinecolor": "white",
           "zerolinewidth": 2
          }
         }
        },
        "title": {
         "font": {
          "size": 24
         },
         "text": "Chronic Disease Prevalence Across the United States",
         "x": 0.5,
         "xanchor": "center"
        },
        "updatemenus": [
         {
          "buttons": [
           {
            "args": [
             {
              "visible": [
               true,
               false,
               false,
               false
              ]
             },
             {
              "title": "DIABETES Prevalence by State"
             }
            ],
            "label": "DIABETES",
            "method": "update"
           },
           {
            "args": [
             {
              "visible": [
               false,
               true,
               false,
               false
              ]
             },
             {
              "title": "OBESITY Prevalence by State"
             }
            ],
            "label": "OBESITY",
            "method": "update"
           },
           {
            "args": [
             {
              "visible": [
               false,
               false,
               true,
               false
              ]
             },
             {
              "title": "BPHIGH Prevalence by State"
             }
            ],
            "label": "BPHIGH",
            "method": "update"
           },
           {
            "args": [
             {
              "visible": [
               false,
               false,
               false,
               true
              ]
             },
             {
              "title": "STROKE Prevalence by State"
             }
            ],
            "label": "STROKE",
            "method": "update"
           }
          ],
          "direction": "down",
          "showactive": true,
          "x": 0.1,
          "y": 1.1
         }
        ],
        "width": 1000
       }
      }
     },
     "metadata": {},
     "output_type": "display_data"
    }
   ],
   "source": [
    "import plotly.express as px\n",
    "import plotly.graph_objects as go\n",
    "import pandas as pd\n",
    "import numpy as np\n",
    "from typing import Dict, List\n",
    "\n",
    "from config import *\n",
    "\n",
    "def create_health_choropleth(\n",
    "    df: pd.DataFrame,\n",
    "    measures: List[str] = ['DIABETES_CrudePrev', 'OBESITY_CrudePrev', 'BPHIGH_CrudePrev', 'STROKE_CrudePrev']\n",
    ") -> go.Figure:\n",
    "    \"\"\"\n",
    "    Creates an interactive choropleth map of health outcomes using Plotly\n",
    "    \n",
    "    Parameters:\n",
    "    -----------\n",
    "    df : pd.DataFrame\n",
    "        PLACES dataset\n",
    "    measures : List[str]\n",
    "        List of health measures to visualize\n",
    "    \n",
    "    Returns:\n",
    "    --------\n",
    "    fig : go.Figure\n",
    "        Interactive Plotly figure\n",
    "    \"\"\"\n",
    "    # Calculate state-level statistics\n",
    "    state_stats = df.groupby(['StateDesc', 'StateAbbr'])[measures].agg(['mean', 'std', 'count']).reset_index()\n",
    "\n",
    "    # Flatten column names\n",
    "    state_stats.columns = [\n",
    "        f\"{col[0]}_{col[1]}\" if isinstance(col, tuple) and col[1] else col[0]\n",
    "        for col in state_stats.columns\n",
    "    ]\n",
    "    \n",
    "    # Create figure\n",
    "    fig = go.Figure()\n",
    "    \n",
    "    # Add choropleth traces for each measure\n",
    "    for measure in measures:\n",
    "        measure_name = measure.replace('_CrudePrev', '')\n",
    "        display_name = {\n",
    "            'DIABETES': 'Diabetes',\n",
    "            'OBESITY': 'Obesity',\n",
    "            'BPHIGH': 'High Blood Pressure',\n",
    "            'STROKE': 'Stroke'\n",
    "        }.get(measure_name, measure_name)\n",
    "        \n",
    "        fig.add_trace(\n",
    "            go.Choropleth(\n",
    "                locations=state_stats['StateAbbr'],\n",
    "                z=state_stats[f'{measure}_mean'],\n",
    "                locationmode='USA-states',\n",
    "                colorscale='Reds',\n",
    "                name=display_name,\n",
    "                zmin=state_stats[f'{measure}_mean'].min(),\n",
    "                zmax=state_stats[f'{measure}_mean'].max(),\n",
    "                visible=True if measure == measures[0] else False,\n",
    "                colorbar_title=\"Prevalence (%)\",\n",
    "                hovertemplate=(\n",
    "                    \"<b>%{location}</b><br>\" +\n",
    "                    \"Prevalence: %{z:.1f}%<br>\" +\n",
    "                    \"<extra></extra>\"\n",
    "                )\n",
    "            )\n",
    "        )\n",
    "    \n",
    "    # Update layout\n",
    "    fig.update_layout(\n",
    "        title={\n",
    "            'text': 'Chronic Disease Prevalence Across the United States',\n",
    "            'x': 0.5,\n",
    "            'xanchor': 'center',\n",
    "            'font': {'size': 24}\n",
    "        },\n",
    "        geo=dict(\n",
    "            scope='usa',\n",
    "            projection_type='albers usa',\n",
    "            showlakes=True,\n",
    "            lakecolor='rgb(255, 255, 255)'\n",
    "        ),\n",
    "        width=1000,\n",
    "        height=600,\n",
    "        updatemenus=[{\n",
    "            'buttons': [\n",
    "                {\n",
    "                    'method': 'update',\n",
    "                    'label': measure.replace('_CrudePrev', ''),\n",
    "                    'args': [\n",
    "                        {'visible': [i == j for j in range(len(measures))]},\n",
    "                        {'title': f'{measure.replace(\"_CrudePrev\", \"\")} Prevalence by State'}\n",
    "                    ]\n",
    "                } for i, measure in enumerate(measures)\n",
    "            ],\n",
    "            'direction': 'down',\n",
    "            'showactive': True,\n",
    "            'x': 0.1,\n",
    "            'y': 1.1\n",
    "        }]\n",
    "    )\n",
    "    \n",
    "    return fig\n",
    "\n",
    "def main():\n",
    "    # Load data\n",
    "    file_path = get_file_path(2024)\n",
    "    df = pd.read_csv(file_path)\n",
    "    \n",
    "    # Create visualizations\n",
    "    choropleth = create_health_choropleth(df)\n",
    "    \n",
    "    return choropleth\n",
    "\n",
    "# Create and display visualizations\n",
    "choropleth = main()\n",
    "choropleth.show()"
   ]
  },
  {
   "attachments": {},
   "cell_type": "markdown",
   "metadata": {},
   "source": [
    "## County Level Choropleth Maps"
   ]
  },
  {
   "attachments": {},
   "cell_type": "markdown",
   "metadata": {},
   "source": [
    "![County Map](county_map.png \"County Choropleth\")"
   ]
  },
  {
   "attachments": {},
   "cell_type": "markdown",
   "metadata": {},
   "source": [
    "## PCP Plot (Urban/Rural analysis)\n",
    "#### (Work In Progress)"
   ]
  },
  {
   "attachments": {},
   "cell_type": "markdown",
   "metadata": {},
   "source": [
    "![PCP Plot](pcp_plot.png \"Urban-Rural patterns\")"
   ]
  },
  {
   "cell_type": "code",
   "execution_count": 6,
   "metadata": {},
   "outputs": [
    {
     "data": {
      "text/html": [
       "\n",
       "<style>\n",
       "  #altair-viz-99fa4ca54a304b6b828caa0d8b323da8.vega-embed {\n",
       "    width: 100%;\n",
       "    display: flex;\n",
       "  }\n",
       "\n",
       "  #altair-viz-99fa4ca54a304b6b828caa0d8b323da8.vega-embed details,\n",
       "  #altair-viz-99fa4ca54a304b6b828caa0d8b323da8.vega-embed details summary {\n",
       "    position: relative;\n",
       "  }\n",
       "</style>\n",
       "<div id=\"altair-viz-99fa4ca54a304b6b828caa0d8b323da8\"></div>\n",
       "<script type=\"text/javascript\">\n",
       "  var VEGA_DEBUG = (typeof VEGA_DEBUG == \"undefined\") ? {} : VEGA_DEBUG;\n",
       "  (function(spec, embedOpt){\n",
       "    let outputDiv = document.currentScript.previousElementSibling;\n",
       "    if (outputDiv.id !== \"altair-viz-99fa4ca54a304b6b828caa0d8b323da8\") {\n",
       "      outputDiv = document.getElementById(\"altair-viz-99fa4ca54a304b6b828caa0d8b323da8\");\n",
       "    }\n",
       "    const paths = {\n",
       "      \"vega\": \"https://cdn.jsdelivr.net/npm/vega@5?noext\",\n",
       "      \"vega-lib\": \"https://cdn.jsdelivr.net/npm/vega-lib?noext\",\n",
       "      \"vega-lite\": \"https://cdn.jsdelivr.net/npm/vega-lite@5.20.1?noext\",\n",
       "      \"vega-embed\": \"https://cdn.jsdelivr.net/npm/vega-embed@6?noext\",\n",
       "    };\n",
       "\n",
       "    function maybeLoadScript(lib, version) {\n",
       "      var key = `${lib.replace(\"-\", \"\")}_version`;\n",
       "      return (VEGA_DEBUG[key] == version) ?\n",
       "        Promise.resolve(paths[lib]) :\n",
       "        new Promise(function(resolve, reject) {\n",
       "          var s = document.createElement('script');\n",
       "          document.getElementsByTagName(\"head\")[0].appendChild(s);\n",
       "          s.async = true;\n",
       "          s.onload = () => {\n",
       "            VEGA_DEBUG[key] = version;\n",
       "            return resolve(paths[lib]);\n",
       "          };\n",
       "          s.onerror = () => reject(`Error loading script: ${paths[lib]}`);\n",
       "          s.src = paths[lib];\n",
       "        });\n",
       "    }\n",
       "\n",
       "    function showError(err) {\n",
       "      outputDiv.innerHTML = `<div class=\"error\" style=\"color:red;\">${err}</div>`;\n",
       "      throw err;\n",
       "    }\n",
       "\n",
       "    function displayChart(vegaEmbed) {\n",
       "      vegaEmbed(outputDiv, spec, embedOpt)\n",
       "        .catch(err => showError(`Javascript Error: ${err.message}<br>This usually means there's a typo in your chart specification. See the javascript console for the full traceback.`));\n",
       "    }\n",
       "\n",
       "    if(typeof define === \"function\" && define.amd) {\n",
       "      requirejs.config({paths});\n",
       "      require([\"vega-embed\"], displayChart, err => showError(`Error loading script: ${err.message}`));\n",
       "    } else {\n",
       "      maybeLoadScript(\"vega\", \"5\")\n",
       "        .then(() => maybeLoadScript(\"vega-lite\", \"5.20.1\"))\n",
       "        .then(() => maybeLoadScript(\"vega-embed\", \"6\"))\n",
       "        .catch(showError)\n",
       "        .then(() => displayChart(vegaEmbed));\n",
       "    }\n",
       "  })({\"config\": {\"view\": {\"continuousWidth\": 300, \"continuousHeight\": 300}}, \"vconcat\": [{\"data\": {\"name\": \"data-2a8b6697ac8a6f0f2fc86b3cbfd37124\"}, \"mark\": {\"type\": \"bar\"}, \"encoding\": {\"color\": {\"field\": \"Region\", \"legend\": null, \"scale\": {\"scheme\": \"category10\"}, \"type\": \"nominal\"}, \"tooltip\": [{\"field\": \"Region\", \"title\": \"Region\", \"type\": \"nominal\"}, {\"field\": \"value\", \"format\": \".1f\", \"title\": \"Prevalence (%)\", \"type\": \"quantitative\"}, {\"field\": \"std\", \"format\": \".2f\", \"title\": \"Std Dev\", \"type\": \"quantitative\"}], \"x\": {\"field\": \"value\", \"scale\": {\"zero\": false}, \"title\": \"Prevalence (%)\", \"type\": \"quantitative\"}, \"y\": {\"field\": \"Region\", \"sort\": \"-x\", \"title\": \"Region\", \"type\": \"nominal\"}}, \"height\": 200, \"title\": \"Regional Comparison\", \"transform\": [{\"calculate\": \"datum[health_measure]\", \"as\": \"value\"}, {\"calculate\": \"datum[health_measure]\", \"as\": \"std\"}], \"width\": 600}, {\"data\": {\"name\": \"data-e6176c6b24a259adbcd7168ce926dd5b\"}, \"mark\": {\"type\": \"circle\", \"size\": 100}, \"encoding\": {\"color\": {\"field\": \"Region\", \"scale\": {\"scheme\": \"category10\"}, \"type\": \"nominal\"}, \"size\": {\"field\": \"std\", \"scale\": {\"range\": [50, 300]}, \"title\": \"Variation\", \"type\": \"quantitative\"}, \"tooltip\": [{\"field\": \"StateDesc\", \"title\": \"State\", \"type\": \"nominal\"}, {\"field\": \"Region\", \"title\": \"Region\", \"type\": \"nominal\"}, {\"field\": \"value\", \"format\": \".1f\", \"title\": \"Prevalence (%)\", \"type\": \"quantitative\"}, {\"field\": \"std\", \"format\": \".2f\", \"title\": \"Std Dev\", \"type\": \"quantitative\"}], \"x\": {\"field\": \"value\", \"scale\": {\"zero\": false}, \"title\": \"Prevalence (%)\", \"type\": \"quantitative\"}, \"y\": {\"field\": \"StateDesc\", \"sort\": {\"field\": \"value\", \"op\": \"mean\", \"order\": \"descending\"}, \"title\": \"State\", \"type\": \"nominal\"}}, \"height\": 400, \"title\": \"State-Level Detail\", \"transform\": [{\"calculate\": \"datum[health_measure]\", \"as\": \"value\"}, {\"calculate\": \"datum[health_measure]\", \"as\": \"std\"}], \"width\": 600}], \"params\": [{\"name\": \"health_measure\", \"bind\": {\"input\": \"select\", \"options\": [\"STROKE_mean\", \"DIABETES_mean\", \"CHD_mean\", \"COPD_mean\"], \"labels\": [\"Stroke Prevalence\", \"Diabetes Prevalence\", \"Heart Disease Prevalence\", \"COPD Prevalence\"], \"name\": \"Health Measure: \"}, \"value\": \"STROKE_mean\"}], \"spacing\": 20, \"title\": {\"text\": \"Regional Health Disparities in the United States\", \"subtitle\": [\"Exploring patterns in the Stroke Belt, Southwest, Rust Belt, and Urban Corridors\", \"Use dropdown to explore different health measures\"], \"fontSize\": 20, \"anchor\": \"middle\"}, \"$schema\": \"https://vega.github.io/schema/vega-lite/v5.20.1.json\", \"datasets\": {\"data-2a8b6697ac8a6f0f2fc86b3cbfd37124\": [{\"Region\": \"Rust_Belt\", \"STROKE_mean\": 3.875787623948789, \"STROKE_std\": 1.3348873498629628, \"STROKE_min\": 0.3, \"STROKE_max\": 18.6, \"DIABETES_mean\": 12.506759131417096, \"DIABETES_std\": 3.6141543228499082, \"DIABETES_min\": 1.0, \"DIABETES_max\": 37.8, \"CHD_mean\": 7.386933601104556, \"CHD_std\": 1.939493961759192, \"CHD_min\": 0.6, \"CHD_max\": 28.2, \"COPD_mean\": 8.27718087109326, \"COPD_std\": 2.8485689839032076, \"COPD_min\": 1.1, \"COPD_max\": 34.9}, {\"Region\": \"Southeast\", \"STROKE_mean\": 4.3466351738558044, \"STROKE_std\": 1.5942852242502612, \"STROKE_min\": 0.4, \"STROKE_max\": 14.0, \"DIABETES_mean\": 14.138000464648028, \"DIABETES_std\": 4.272787723451466, \"DIABETES_min\": 1.4, \"DIABETES_max\": 34.4, \"CHD_mean\": 7.604305738403159, \"CHD_std\": 2.203148104577888, \"CHD_min\": 0.7, \"CHD_max\": 16.8, \"COPD_mean\": 8.766343994424224, \"COPD_std\": 3.0462369515098775, \"COPD_min\": 1.2, \"COPD_max\": 21.9}, {\"Region\": \"Southwest\", \"STROKE_mean\": 3.748502648050072, \"STROKE_std\": 1.3624822137406944, \"STROKE_min\": 0.4, \"STROKE_max\": 13.1, \"DIABETES_mean\": 13.874415021665863, \"DIABETES_std\": 4.1554078609305485, \"DIABETES_min\": 1.7, \"DIABETES_max\": 37.5, \"CHD_mean\": 7.1646413095811265, \"CHD_std\": 2.3887757623124726, \"CHD_min\": 0.7, \"CHD_max\": 20.7, \"COPD_mean\": 7.357785267212326, \"COPD_std\": 2.7139948087199803, \"COPD_min\": 1.3, \"COPD_max\": 24.9}, {\"Region\": \"Urban_Corridor\", \"STROKE_mean\": 3.3563465923486193, \"STROKE_std\": 1.1289789078889791, \"STROKE_min\": 0.2, \"STROKE_max\": 22.6, \"DIABETES_mean\": 10.92619711173043, \"DIABETES_std\": 3.2039736421074614, \"DIABETES_min\": 0.7, \"DIABETES_max\": 44.7, \"CHD_mean\": 6.330031247360864, \"CHD_std\": 1.7475422144409691, \"CHD_min\": 0.4, \"CHD_max\": 37.1, \"COPD_mean\": 6.07972299636855, \"COPD_std\": 2.1223556975790574, \"COPD_min\": 0.7, \"COPD_max\": 25.2}], \"data-e6176c6b24a259adbcd7168ce926dd5b\": [{\"StateAbbr\": \"AL\", \"StateDesc\": \"Alabama\", \"Region\": \"Southeast\", \"STROKE_mean\": 4.713496503496503, \"STROKE_std\": 1.7025707145743834, \"STROKE_min\": 0.5, \"STROKE_max\": 11.9, \"DIABETES_mean\": 15.582377622377622, \"DIABETES_std\": 4.654359485750104, \"DIABETES_min\": 1.8, \"DIABETES_max\": 32.9, \"CHD_mean\": 8.548531468531468, \"CHD_std\": 2.0841821409607513, \"CHD_min\": 0.9, \"CHD_max\": 15.2, \"COPD_mean\": 9.460979020979021, \"COPD_std\": 2.915370649634797, \"COPD_min\": 1.8, \"COPD_max\": 19.3}, {\"StateAbbr\": \"AR\", \"StateDesc\": \"Arkansas\", \"Region\": \"Southeast\", \"STROKE_mean\": 4.661023142509135, \"STROKE_std\": 1.4265140611073355, \"STROKE_min\": 1.0, \"STROKE_max\": 10.8, \"DIABETES_mean\": 15.54774665042631, \"DIABETES_std\": 3.9072116455412025, \"DIABETES_min\": 3.1, \"DIABETES_max\": 29.6, \"CHD_mean\": 9.105237515225335, \"CHD_std\": 2.238141508714298, \"CHD_min\": 1.8, \"CHD_max\": 16.8, \"COPD_mean\": 9.938124238733252, \"COPD_std\": 2.737627758757847, \"COPD_min\": 2.8, \"COPD_max\": 18.4}, {\"StateAbbr\": \"AZ\", \"StateDesc\": \"Arizona\", \"Region\": \"Southwest\", \"STROKE_mean\": 3.8454022988505745, \"STROKE_std\": 1.526144254091349, \"STROKE_min\": 0.5, \"STROKE_max\": 12.6, \"DIABETES_mean\": 12.76977011494253, \"DIABETES_std\": 3.6764101915480922, \"DIABETES_min\": 1.7, \"DIABETES_max\": 27.2, \"CHD_mean\": 7.492068965517242, \"CHD_std\": 2.9669184792703827, \"CHD_min\": 0.9, \"CHD_max\": 20.7, \"COPD_mean\": 7.663563218390805, \"COPD_std\": 2.8976651690427984, \"COPD_min\": 1.8, \"COPD_max\": 22.0}, {\"StateAbbr\": \"CT\", \"StateDesc\": \"Connecticut\", \"Region\": \"Urban_Corridor\", \"STROKE_mean\": 3.306392694063927, \"STROKE_std\": 0.8850531547641592, \"STROKE_min\": 0.6, \"STROKE_max\": 9.5, \"DIABETES_mean\": 10.53013698630137, \"DIABETES_std\": 2.8403710790894205, \"DIABETES_min\": 2.0, \"DIABETES_max\": 27.3, \"CHD_mean\": 6.360502283105023, \"CHD_std\": 1.3061145777765815, \"CHD_min\": 1.0, \"CHD_max\": 16.3, \"COPD_mean\": 6.365753424657534, \"COPD_std\": 1.7165522264085813, \"COPD_min\": 1.6, \"COPD_max\": 17.3}, {\"StateAbbr\": \"DC\", \"StateDesc\": \"District of Columbia\", \"Region\": \"Urban_Corridor\", \"STROKE_mean\": 3.0092233009708735, \"STROKE_std\": 1.6267466796184153, \"STROKE_min\": 0.7, \"STROKE_max\": 7.2, \"DIABETES_mean\": 8.299999999999999, \"DIABETES_std\": 3.959576227633334, \"DIABETES_min\": 1.9, \"DIABETES_max\": 17.3, \"CHD_mean\": 4.2635922330097085, \"CHD_std\": 1.6352771701332134, \"CHD_min\": 1.1, \"CHD_max\": 10.0, \"COPD_mean\": 4.563106796116505, \"COPD_std\": 2.3852387635770675, \"COPD_min\": 1.4, \"COPD_max\": 11.0}, {\"StateAbbr\": \"GA\", \"StateDesc\": \"Georgia\", \"Region\": \"Southeast\", \"STROKE_mean\": 3.954058908045977, \"STROKE_std\": 1.5066786442213218, \"STROKE_min\": 0.5, \"STROKE_max\": 12.6, \"DIABETES_mean\": 13.016415229885057, \"DIABETES_std\": 3.8769086069169476, \"DIABETES_min\": 1.8, \"DIABETES_max\": 33.6, \"CHD_mean\": 6.6116738505747135, \"CHD_std\": 2.0557527845699473, \"CHD_min\": 1.0, \"CHD_max\": 16.3, \"COPD_mean\": 7.675359195402299, \"COPD_std\": 2.9224944209092993, \"COPD_min\": 1.5, \"COPD_max\": 19.5}, {\"StateAbbr\": \"IL\", \"StateDesc\": \"Illinois\", \"Region\": \"Rust_Belt\", \"STROKE_mean\": 3.6546040515653777, \"STROKE_std\": 1.3739713755657257, \"STROKE_min\": 0.5, \"STROKE_max\": 10.2, \"DIABETES_mean\": 12.371731123388582, \"DIABETES_std\": 3.604874503104503, \"DIABETES_min\": 1.8, \"DIABETES_max\": 28.5, \"CHD_mean\": 6.467894413750768, \"CHD_std\": 1.828043893123263, \"CHD_min\": 0.8, \"CHD_max\": 17.3, \"COPD_mean\": 6.663443830570903, \"COPD_std\": 2.3984167431616448, \"COPD_min\": 1.1, \"COPD_max\": 17.0}, {\"StateAbbr\": \"IN\", \"StateDesc\": \"Indiana\", \"Region\": \"Rust_Belt\", \"STROKE_mean\": 3.927833827893175, \"STROKE_std\": 1.1808207504017958, \"STROKE_min\": 0.8, \"STROKE_max\": 11.8, \"DIABETES_mean\": 13.055786350148368, \"DIABETES_std\": 3.1551428517793383, \"DIABETES_min\": 2.2, \"DIABETES_max\": 30.6, \"CHD_mean\": 7.626943620178041, \"CHD_std\": 1.696285721567782, \"CHD_min\": 1.3, \"CHD_max\": 14.2, \"COPD_mean\": 9.170979228486647, \"COPD_std\": 2.5382689600791535, \"COPD_min\": 2.5, \"COPD_max\": 19.8}, {\"StateAbbr\": \"LA\", \"StateDesc\": \"Louisiana\", \"Region\": \"Southeast\", \"STROKE_mean\": 4.797951719092905, \"STROKE_std\": 1.80085677202087, \"STROKE_min\": 0.8, \"STROKE_max\": 14.0, \"DIABETES_mean\": 15.441916605705924, \"DIABETES_std\": 4.617960051310539, \"DIABETES_min\": 2.9, \"DIABETES_max\": 33.6, \"CHD_mean\": 7.816605705925384, \"CHD_std\": 1.964631083225007, \"CHD_min\": 1.3, \"CHD_max\": 15.9, \"COPD_mean\": 9.2865398683248, \"COPD_std\": 3.044173602729609, \"COPD_min\": 2.1, \"COPD_max\": 21.1}, {\"StateAbbr\": \"MA\", \"StateDesc\": \"Massachusetts\", \"Region\": \"Urban_Corridor\", \"STROKE_mean\": 3.0905447714464622, \"STROKE_std\": 0.991937177795175, \"STROKE_min\": 0.2, \"STROKE_max\": 11.6, \"DIABETES_mean\": 9.679211020663745, \"DIABETES_std\": 2.9005109097403117, \"DIABETES_min\": 0.7, \"DIABETES_max\": 27.7, \"CHD_mean\": 6.466562304320601, \"CHD_std\": 1.8268833498177453, \"CHD_min\": 0.4, \"CHD_max\": 15.7, \"COPD_mean\": 6.112586098935504, \"COPD_std\": 2.1022897499188007, \"COPD_min\": 0.7, \"COPD_max\": 20.5}, {\"StateAbbr\": \"MD\", \"StateDesc\": \"Maryland\", \"Region\": \"Urban_Corridor\", \"STROKE_mean\": 3.5900548696844994, \"STROKE_std\": 1.2891197178512679, \"STROKE_min\": 0.6, \"STROKE_max\": 11.0, \"DIABETES_mean\": 12.324622770919067, \"DIABETES_std\": 3.441054374906998, \"DIABETES_min\": 2.2, \"DIABETES_max\": 28.0, \"CHD_mean\": 6.077297668038409, \"CHD_std\": 1.7376248497901234, \"CHD_min\": 0.9, \"CHD_max\": 17.7, \"COPD_mean\": 6.1336762688614535, \"COPD_std\": 2.2486351378064793, \"COPD_min\": 1.6, \"COPD_max\": 17.8}, {\"StateAbbr\": \"MI\", \"StateDesc\": \"Michigan\", \"Region\": \"Rust_Belt\", \"STROKE_mean\": 3.954820936639118, \"STROKE_std\": 1.433047347773289, \"STROKE_min\": 0.4, \"STROKE_max\": 18.6, \"DIABETES_mean\": 11.963326446280991, \"DIABETES_std\": 3.6449741854292173, \"DIABETES_min\": 1.0, \"DIABETES_max\": 29.4, \"CHD_mean\": 7.285915977961432, \"CHD_std\": 1.8716583692419684, \"CHD_min\": 0.6, \"CHD_max\": 28.2, \"COPD_mean\": 8.862982093663911, \"COPD_std\": 2.8251143865263124, \"COPD_min\": 1.6, \"COPD_max\": 34.9}, {\"StateAbbr\": \"MS\", \"StateDesc\": \"Mississippi\", \"Region\": \"Southeast\", \"STROKE_mean\": 5.019080459770115, \"STROKE_std\": 1.694302122650155, \"STROKE_min\": 0.7, \"STROKE_max\": 11.6, \"DIABETES_mean\": 16.01, \"DIABETES_std\": 4.425163816020723, \"DIABETES_min\": 2.7, \"DIABETES_max\": 31.2, \"CHD_mean\": 8.426206896551724, \"CHD_std\": 1.8723788684130926, \"CHD_min\": 1.3, \"CHD_max\": 15.3, \"COPD_mean\": 9.71183908045977, \"COPD_std\": 2.7403451307317184, \"COPD_min\": 1.9, \"COPD_max\": 18.4}, {\"StateAbbr\": \"NC\", \"StateDesc\": \"North Carolina\", \"Region\": \"Southeast\", \"STROKE_mean\": 4.073517189270873, \"STROKE_std\": 1.463807968904779, \"STROKE_min\": 0.4, \"STROKE_max\": 10.7, \"DIABETES_mean\": 12.612089157536833, \"DIABETES_std\": 3.6717277556519123, \"DIABETES_min\": 1.5, \"DIABETES_max\": 27.3, \"CHD_mean\": 7.244125425009445, \"CHD_std\": 2.1839123663438467, \"CHD_min\": 0.9, \"CHD_max\": 13.6, \"COPD_mean\": 8.008349074423876, \"COPD_std\": 2.8091152168220903, \"COPD_min\": 1.3, \"COPD_max\": 19.0}, {\"StateAbbr\": \"NJ\", \"StateDesc\": \"New Jersey\", \"Region\": \"Urban_Corridor\", \"STROKE_mean\": 3.241678192715537, \"STROKE_std\": 1.0562134491980515, \"STROKE_min\": 0.4, \"STROKE_max\": 10.3, \"DIABETES_mean\": 10.523651452282158, \"DIABETES_std\": 2.8158156290951006, \"DIABETES_min\": 1.2, \"DIABETES_max\": 26.4, \"CHD_mean\": 6.154863992623328, \"CHD_std\": 1.7133822080349748, \"CHD_min\": 0.7, \"CHD_max\": 17.2, \"COPD_mean\": 5.53840479483633, \"COPD_std\": 1.8086674878078108, \"COPD_min\": 0.8, \"COPD_max\": 15.6}, {\"StateAbbr\": \"NM\", \"StateDesc\": \"New Mexico\", \"Region\": \"Southwest\", \"STROKE_mean\": 4.223714759535655, \"STROKE_std\": 1.4725116286725262, \"STROKE_min\": 0.8, \"STROKE_max\": 11.8, \"DIABETES_mean\": 13.029850746268657, \"DIABETES_std\": 3.5541007821547352, \"DIABETES_min\": 2.2, \"DIABETES_max\": 25.4, \"CHD_mean\": 7.7711442786069655, \"CHD_std\": 2.0627200015345033, \"CHD_min\": 1.5, \"CHD_max\": 15.1, \"COPD_mean\": 7.553897180762853, \"COPD_std\": 2.6943333982956608, \"COPD_min\": 2.2, \"COPD_max\": 21.7}, {\"StateAbbr\": \"NY\", \"StateDesc\": \"New York\", \"Region\": \"Urban_Corridor\", \"STROKE_mean\": 3.443524295708073, \"STROKE_std\": 1.153749782383282, \"STROKE_min\": 0.2, \"STROKE_max\": 22.6, \"DIABETES_mean\": 11.227415390432975, \"DIABETES_std\": 3.201239736225213, \"DIABETES_min\": 0.7, \"DIABETES_max\": 44.7, \"CHD_mean\": 6.485762904140668, \"CHD_std\": 1.7578050469144704, \"CHD_min\": 0.4, \"CHD_max\": 37.1, \"COPD_mean\": 6.241841557950463, \"COPD_std\": 2.209029848431325, \"COPD_min\": 0.8, \"COPD_max\": 25.2}, {\"StateAbbr\": \"OH\", \"StateDesc\": \"Ohio\", \"Region\": \"Rust_Belt\", \"STROKE_mean\": 4.203329105897273, \"STROKE_std\": 1.4673694771560026, \"STROKE_min\": 0.4, \"STROKE_max\": 16.8, \"DIABETES_mean\": 14.231008243500316, \"DIABETES_std\": 3.8908142570914492, \"DIABETES_min\": 1.4, \"DIABETES_max\": 37.8, \"CHD_mean\": 8.364679771718453, \"CHD_std\": 1.9678388884962477, \"CHD_min\": 0.8, \"CHD_max\": 21.2, \"COPD_mean\": 9.91277742549144, \"COPD_std\": 3.0560176046069922, \"COPD_min\": 1.7, \"COPD_max\": 26.3}, {\"StateAbbr\": \"OK\", \"StateDesc\": \"Oklahoma\", \"Region\": \"Southwest\", \"STROKE_mean\": 4.265358931552587, \"STROKE_std\": 1.2874279292704223, \"STROKE_min\": 0.6, \"STROKE_max\": 11.7, \"DIABETES_mean\": 13.847412353923206, \"DIABETES_std\": 3.329984154329343, \"DIABETES_min\": 2.0, \"DIABETES_max\": 29.9, \"CHD_mean\": 8.448414023372289, \"CHD_std\": 2.1010901388642886, \"CHD_min\": 1.0, \"CHD_max\": 16.9, \"COPD_mean\": 9.095826377295491, \"COPD_std\": 2.7919683010480587, \"COPD_min\": 1.7, \"COPD_max\": 24.9}, {\"StateAbbr\": \"PA\", \"StateDesc\": \"Pennsylvania\", \"Region\": \"Rust_Belt\", \"STROKE_mean\": 3.8160211267605635, \"STROKE_std\": 1.1850558122289878, \"STROKE_min\": 0.3, \"STROKE_max\": 14.0, \"DIABETES_mean\": 11.88025234741784, \"DIABETES_std\": 3.2036402917869693, \"DIABETES_min\": 1.0, \"DIABETES_max\": 30.9, \"CHD_mean\": 7.525968309859155, \"CHD_std\": 1.8266439338908604, \"CHD_min\": 0.7, \"CHD_max\": 25.1, \"COPD_mean\": 7.959771126760564, \"COPD_std\": 2.3845884333202836, \"COPD_min\": 1.4, \"COPD_max\": 23.9}, {\"StateAbbr\": \"RI\", \"StateDesc\": \"Rhode Island\", \"Region\": \"Urban_Corridor\", \"STROKE_mean\": 3.302032520325203, \"STROKE_std\": 0.714482783499857, \"STROKE_min\": 0.7, \"STROKE_max\": 7.2, \"DIABETES_mean\": 11.415853658536586, \"DIABETES_std\": 2.4130327862414878, \"DIABETES_min\": 1.9, \"DIABETES_max\": 22.8, \"CHD_mean\": 6.759756097560976, \"CHD_std\": 1.3462746564029466, \"CHD_min\": 1.1, \"CHD_max\": 12.3, \"COPD_mean\": 7.085365853658536, \"COPD_std\": 1.6845362918815385, \"COPD_min\": 2.6, \"COPD_max\": 15.2}, {\"StateAbbr\": \"SC\", \"StateDesc\": \"South Carolina\", \"Region\": \"Southeast\", \"STROKE_mean\": 4.384756097560976, \"STROKE_std\": 1.5063544837210159, \"STROKE_min\": 0.4, \"STROKE_max\": 11.0, \"DIABETES_mean\": 13.857774390243904, \"DIABETES_std\": 4.031508311868499, \"DIABETES_min\": 1.4, \"DIABETES_max\": 27.7, \"CHD_mean\": 7.392911585365853, \"CHD_std\": 1.9163960100235296, \"CHD_min\": 0.8, \"CHD_max\": 15.5, \"COPD_mean\": 8.189253048780488, \"COPD_std\": 2.5739910256532106, \"COPD_min\": 1.2, \"COPD_max\": 18.2}, {\"StateAbbr\": \"TN\", \"StateDesc\": \"Tennessee\", \"Region\": \"Southeast\", \"STROKE_mean\": 4.216527942925089, \"STROKE_std\": 1.4468494405092378, \"STROKE_min\": 0.4, \"STROKE_max\": 12.5, \"DIABETES_mean\": 14.670273483947682, \"DIABETES_std\": 4.0125971830720175, \"DIABETES_min\": 1.4, \"DIABETES_max\": 34.4, \"CHD_mean\": 7.845957193816885, \"CHD_std\": 2.157663804384985, \"CHD_min\": 0.7, \"CHD_max\": 15.6, \"COPD_mean\": 10.14078478002378, \"COPD_std\": 3.2350679410238157, \"COPD_min\": 1.7, \"COPD_max\": 21.9}, {\"StateAbbr\": \"TX\", \"StateDesc\": \"Texas\", \"Region\": \"Southwest\", \"STROKE_mean\": 3.5915254237288137, \"STROKE_std\": 1.2847870805151707, \"STROKE_min\": 0.4, \"STROKE_max\": 13.1, \"DIABETES_mean\": 14.234395090590297, \"DIABETES_std\": 4.383386050911408, \"DIABETES_min\": 1.7, \"DIABETES_max\": 37.5, \"CHD_mean\": 6.803243717124489, \"CHD_std\": 2.190132641264784, \"CHD_min\": 0.7, \"CHD_max\": 19.6, \"COPD_mean\": 6.95853302162478, \"COPD_std\": 2.515131808234348, \"COPD_min\": 1.3, \"COPD_max\": 24.4}, {\"StateAbbr\": \"WI\", \"StateDesc\": \"Wisconsin\", \"Region\": \"Rust_Belt\", \"STROKE_mean\": 3.596459016393443, \"STROKE_std\": 1.0586107615862768, \"STROKE_min\": 0.8, \"STROKE_max\": 11.4, \"DIABETES_mean\": 11.057442622950818, \"DIABETES_std\": 2.854660510705989, \"DIABETES_min\": 2.1, \"DIABETES_max\": 29.0, \"CHD_mean\": 6.9446557377049185, \"CHD_std\": 1.6600226384833132, \"CHD_min\": 1.1, \"CHD_max\": 13.7, \"COPD_mean\": 6.9482622950819675, \"COPD_std\": 1.8841492254754035, \"COPD_min\": 1.6, \"COPD_max\": 16.6}]}}, {\"mode\": \"vega-lite\"});\n",
       "</script>"
      ],
      "text/plain": [
       "alt.VConcatChart(...)"
      ]
     },
     "metadata": {},
     "output_type": "display_data"
    }
   ],
   "source": [
    "import altair as alt\n",
    "import pandas as pd\n",
    "import numpy as np\n",
    "from vega_datasets import data\n",
    "from typing import Dict, List, Tuple\n",
    "\n",
    "from config import HEALTH_MEASURES_CONFIG, get_file_path\n",
    "\n",
    "def create_regional_health_analysis(\n",
    "    df: pd.DataFrame,\n",
    "    health_measures_config: Dict[str, Dict[str, str]] = HEALTH_MEASURES_CONFIG\n",
    ") -> alt.Chart:\n",
    "    \"\"\"\n",
    "    Creates an interactive visualization of regional health disparities focusing on\n",
    "    specific patterns and regional clusters.\n",
    "    \"\"\"\n",
    "    # Define regions\n",
    "    regions = {\n",
    "        'Southeast': ['AL', 'GA', 'NC', 'SC', 'TN', 'MS', 'AR', 'LA'],  # Stroke Belt\n",
    "        'Southwest': ['AZ', 'NM', 'TX', 'OK'],\n",
    "        'Rust_Belt': ['PA', 'OH', 'MI', 'IN', 'IL', 'WI'],\n",
    "        'Urban_Corridor': ['NY', 'NJ', 'MA', 'CT', 'RI', 'MD', 'DC']\n",
    "    }\n",
    "    \n",
    "    # Add region column\n",
    "    df['Region'] = df['StateAbbr'].map({\n",
    "        state: region\n",
    "        for region, states in regions.items()\n",
    "        for state in states\n",
    "    })\n",
    "    \n",
    "    # Calculate regional statistics\n",
    "    regional_stats = []\n",
    "    \n",
    "    for measure in ['STROKE', 'DIABETES', 'CHD', 'COPD']:\n",
    "        measure_col = f'{measure}_CrudePrev'\n",
    "        \n",
    "        # Regional aggregation\n",
    "        region_data = df.groupby('Region').agg({\n",
    "            measure_col: ['mean', 'std', 'min', 'max']\n",
    "        }).reset_index()\n",
    "        \n",
    "        # Flatten column names\n",
    "        region_data.columns = ['Region'] + [f'{measure}_{stat}' for stat in ['mean', 'std', 'min', 'max']]\n",
    "        regional_stats.append(region_data)\n",
    "    \n",
    "    # Merge all measures\n",
    "    regional_data = regional_stats[0]\n",
    "    for data in regional_stats[1:]:\n",
    "        regional_data = regional_data.merge(data, on='Region')\n",
    "    \n",
    "    # Create state-level statistics\n",
    "    state_stats = []\n",
    "    \n",
    "    for measure in ['STROKE', 'DIABETES', 'CHD', 'COPD']:\n",
    "        measure_col = f'{measure}_CrudePrev'\n",
    "        \n",
    "        # State aggregation\n",
    "        state_data = df.groupby(['StateAbbr', 'StateDesc', 'Region']).agg({\n",
    "            measure_col: ['mean', 'std', 'min', 'max']\n",
    "        }).reset_index()\n",
    "        \n",
    "        # Flatten column names\n",
    "        state_data.columns = ['StateAbbr', 'StateDesc', 'Region'] + [\n",
    "            f'{measure}_{stat}' for stat in ['mean', 'std', 'min', 'max']\n",
    "        ]\n",
    "        state_stats.append(state_data)\n",
    "    \n",
    "    # Merge all measures\n",
    "    state_data = state_stats[0]\n",
    "    for data in state_stats[1:]:\n",
    "        state_data = state_data.merge(data, on=['StateAbbr', 'StateDesc', 'Region'])\n",
    "    \n",
    "    # Create measure selection\n",
    "    measure_select = alt.binding_select(\n",
    "        options=[\n",
    "            'STROKE_mean',\n",
    "            'DIABETES_mean',\n",
    "            'CHD_mean',\n",
    "            'COPD_mean'\n",
    "        ],\n",
    "        labels=[\n",
    "            'Stroke Prevalence',\n",
    "            'Diabetes Prevalence',\n",
    "            'Heart Disease Prevalence',\n",
    "            'COPD Prevalence'\n",
    "        ],\n",
    "        name=\"Health Measure: \"\n",
    "    )\n",
    "    \n",
    "    selection = alt.param(\n",
    "        name='health_measure',\n",
    "        value='STROKE_mean',\n",
    "        bind=measure_select\n",
    "    )\n",
    "    \n",
    "    # Create regional comparison chart\n",
    "    regional_chart = alt.Chart(regional_data).mark_bar().encode(\n",
    "        x=alt.X('value:Q', \n",
    "                title='Prevalence (%)',\n",
    "                scale=alt.Scale(zero=False)),\n",
    "        y=alt.Y('Region:N', \n",
    "                title='Region',\n",
    "                sort='-x'),\n",
    "        color=alt.Color('Region:N', \n",
    "                       legend=None,\n",
    "                       scale=alt.Scale(scheme='category10')),\n",
    "        tooltip=[\n",
    "            alt.Tooltip('Region:N', title='Region'),\n",
    "            alt.Tooltip('value:Q', title='Prevalence (%)', format='.1f'),\n",
    "            alt.Tooltip('std:Q', title='Std Dev', format='.2f')\n",
    "        ]\n",
    "    ).transform_calculate(\n",
    "        value=f'datum[{selection.name}]',\n",
    "        std=f'datum[{selection.name.replace(\"mean\", \"std\")}]'\n",
    "    ).properties(\n",
    "        width=600,\n",
    "        height=200,\n",
    "        title='Regional Comparison'\n",
    "    )\n",
    "    \n",
    "    # Create state-level detail chart\n",
    "    state_chart = alt.Chart(state_data).mark_circle(size=100).encode(\n",
    "        x=alt.X('value:Q', \n",
    "                title='Prevalence (%)',\n",
    "                scale=alt.Scale(zero=False)),\n",
    "        y=alt.Y('StateDesc:N', \n",
    "                title='State',\n",
    "                sort=alt.EncodingSortField(field='value', op='mean', order='descending')),\n",
    "        color=alt.Color('Region:N',\n",
    "                       scale=alt.Scale(scheme='category10')),\n",
    "        size=alt.Size('std:Q', \n",
    "                     title='Variation',\n",
    "                     scale=alt.Scale(range=[50, 300])),\n",
    "        tooltip=[\n",
    "            alt.Tooltip('StateDesc:N', title='State'),\n",
    "            alt.Tooltip('Region:N', title='Region'),\n",
    "            alt.Tooltip('value:Q', title='Prevalence (%)', format='.1f'),\n",
    "            alt.Tooltip('std:Q', title='Std Dev', format='.2f')\n",
    "        ]\n",
    "    ).transform_calculate(\n",
    "        value=f'datum[{selection.name}]',\n",
    "        std=f'datum[{selection.name.replace(\"mean\", \"std\")}]'\n",
    "    ).properties(\n",
    "        width=600,\n",
    "        height=400,\n",
    "        title='State-Level Detail'\n",
    "    )\n",
    "    \n",
    "    # Combine visualizations\n",
    "    final_viz = alt.vconcat(\n",
    "        regional_chart,\n",
    "        state_chart,\n",
    "        spacing=20\n",
    "    ).properties(\n",
    "        title={\n",
    "            'text': 'Regional Health Disparities in the United States',\n",
    "            'subtitle': [\n",
    "                'Exploring patterns in the Stroke Belt, Southwest, Rust Belt, and Urban Corridors',\n",
    "                'Use dropdown to explore different health measures'\n",
    "            ],\n",
    "            'fontSize': 20,\n",
    "            'anchor': 'middle'\n",
    "        }\n",
    "    ).add_params(\n",
    "        selection\n",
    "    )\n",
    "    \n",
    "    return final_viz\n",
    "\n",
    "def main():\n",
    "    # Enable Altair to work in Jupyter\n",
    "    alt.renderers.enable('default')\n",
    "    \n",
    "    # Load data\n",
    "    file_path = get_file_path(2024)\n",
    "    df = pd.read_csv(file_path)\n",
    "    \n",
    "    # Create visualization\n",
    "    chart = create_regional_health_analysis(df)\n",
    "    \n",
    "    # Display in notebook\n",
    "    display(chart)\n",
    "    \n",
    "    return chart\n",
    "\n",
    "# For Jupyter notebook\n",
    "alt.renderers.enable('default')\n",
    "chart = main()"
   ]
  },
  {
   "cell_type": "code",
   "execution_count": null,
   "metadata": {},
   "outputs": [],
   "source": []
  }
 ],
 "metadata": {
  "kernelspec": {
   "display_name": "base",
   "language": "python",
   "name": "python3"
  },
  "language_info": {
   "codemirror_mode": {
    "name": "ipython",
    "version": 3
   },
   "file_extension": ".py",
   "mimetype": "text/x-python",
   "name": "python",
   "nbconvert_exporter": "python",
   "pygments_lexer": "ipython3",
   "version": "3.11.8"
  },
  "orig_nbformat": 4,
  "vscode": {
   "interpreter": {
    "hash": "51268d2dc058faf78216ef8183e4e8ea0a4e68bfdf3961c5e7f493d3b4bdc42a"
   }
  }
 },
 "nbformat": 4,
 "nbformat_minor": 2
}
